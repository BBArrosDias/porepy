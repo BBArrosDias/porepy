{
 "cells": [
  {
   "cell_type": "markdown",
   "metadata": {},
   "source": [
    "# Darcy's Equation\n",
    "\n",
    "In this tutorial we will assume we have an incompressible fluid. Conservation of mass then gives us\n",
    "\\begin{equation}\n",
    "\\nabla v =  q,\n",
    "\\end{equation}\n",
    "where $v$ is the fluid velocity and $q$ any source term. \n",
    "\n",
    "A common assumption used for flow in porous media is the so called Darcy's law, which relates the flux field to the pressure gradient:\n",
    "\\begin{equation}\n",
    "v = -\\frac{K}{\\mu}\\nabla p\n",
    "\\end{equation}\n",
    "\n",
    "We innsert Darcy's law into the equation for conservation of mass to obtain an elliptic equation, which can be solved with respect to the pressure\n",
    "\n",
    "$$ - \\nabla \\cdot \\rho K \\nabla p = \\rho f $$\n",
    "with boundary conditions on $\\partial \\Omega_d$ and $\\partial \\Omega_n$:\n",
    "$$ p = p_b \\qquad - K \\nabla p \\cdot \\mathbf{n} = u_b$$\n",
    "\n",
    "\n"
   ]
  },
  {
   "cell_type": "markdown",
   "metadata": {},
   "source": [
    "# Import modules\n",
    "To solve this equation we need access to NumPy and PorePy."
   ]
  },
  {
   "cell_type": "code",
   "execution_count": 2,
   "metadata": {},
   "outputs": [],
   "source": [
    "import numpy as np\n",
    "import porepy as pp"
   ]
  },
  {
   "cell_type": "markdown",
   "metadata": {},
   "source": [
    "# Generate grid\n",
    "We first solve the equation on a single cartesian grid, and will later add fractures to the grid"
   ]
  },
  {
   "cell_type": "code",
   "execution_count": 3,
   "metadata": {},
   "outputs": [],
   "source": [
    "g = pp.CartGrid([11, 11])\n",
    "g.compute_geometry()"
   ]
  },
  {
   "cell_type": "markdown",
   "metadata": {},
   "source": [
    "# Set parameters\n",
    "We create define dirichlet boundary conditions and a source term, and store them in the data dictionary. 'initialize_data' sets default values for the non-specified parameters, in particular zero boundary values and unitary permeability tensor."
   ]
  },
  {
   "cell_type": "code",
   "execution_count": 6,
   "metadata": {},
   "outputs": [],
   "source": [
    "param =  pp.Parameters(g)\n",
    "dir_bound = np.ravel(np.argwhere(g.tags['domain_boundary_faces']))\n",
    "bc_cond = pp.BoundaryCondition(g, dir_bound, ['dir']*dir_bound.size)\n",
    "\n",
    "src = np.zeros(g.num_cells)\n",
    "src[60] = 1\n",
    "\n",
    "specified_parameters = {\"source\": src, \"bc\": bc_cond}\n",
    "d = pp.params.data.initialize_data({}, g, \"flow\", specified_parameters)"
   ]
  },
  {
   "cell_type": "markdown",
   "metadata": {},
   "source": [
    "# Solve problem\n",
    "We can now create a Darcy object and solve the problem"
   ]
  },
  {
   "cell_type": "code",
   "execution_count": 7,
   "metadata": {},
   "outputs": [
    {
     "name": "stderr",
     "output_type": "stream",
     "text": [
      "Solve elliptic model\n",
      "Discretize\n",
      "Done. Elapsed time 0.009915590286254883\n",
      "Solve linear system using direct solver\n",
      "Done. Elapsed time 0.002668142318725586\n"
     ]
    },
    {
     "data": {
      "image/png": "[encoded data removed]",
      "text/plain": [
       "<Figure size 432x288 with 2 Axes>"
      ]
     },
     "metadata": {},
     "output_type": "display_data"
    }
   ],
   "source": [
    "problem = pp.EllipticModel(g, d)\n",
    "p = problem.solve()\n",
    "pp.plot_grid(g, p)"
   ]
  },
  {
   "cell_type": "markdown",
   "metadata": {},
   "source": [
    "# Add fractures\n",
    "We now try to solve the same problem, but with a fracture in the domain. We create a multidimensional grid:"
   ]
  },
  {
   "cell_type": "code",
   "execution_count": 5,
   "metadata": {},
   "outputs": [],
   "source": [
    "f = np.array([[0,10],[5,5]])\n",
    "gb = pp.meshing.cart_grid([f], [10,10])\n",
    "gb.assign_node_ordering()"
   ]
  },
  {
   "cell_type": "markdown",
   "metadata": {},
   "source": [
    "We now make use of the DarcyData class to assign data to the fracture and matrix. We wish to set zero dirichlet boundary conditions. However, the data class assigns Neumann conditions by default, so we overload the bc function. We set a small aperture for the fracture, but a high permeability. Note that we let the FractureDomain innherit from the MatrixDomain. This way we assign the same parameters to the fractures as the matrix, unless we overload the parameter function(e.g., the permeabillity) "
   ]
  },
  {
   "cell_type": "code",
   "execution_count": 6,
   "metadata": {},
   "outputs": [],
   "source": [
    "class MatrixDomain(pp.EllipticDataAssigner):\n",
    "    def __init__(self, g, d):\n",
    "        pp.EllipticDataAssigner.__init__(self, g, d)\n",
    "\n",
    "    def bc(self):\n",
    "        dir_bound = np.ravel(np.argwhere(self.grid().tags['domain_boundary_faces']))\n",
    "        return pp.BoundaryCondition(self.grid(), dir_bound, ['dir']*dir_bound.size)\n",
    "\n",
    "class FractureDomain(MatrixDomain):\n",
    "    def __init(self, g, d):\n",
    "        MatrixDomain.__init__(self, g, d)\n",
    "        \n",
    "    def permeability(self):\n",
    "        kxx = 100 * np.ones(self.grid().num_cells)\n",
    "        return pp.SecondOrderTensor(2, kxx)\n",
    "    \n",
    "    def source(self):\n",
    "        val = np.ones(self.grid().num_cells)\n",
    "        val[round(self.grid().num_cells/2)] = 1\n",
    "        return val\n",
    "    \n",
    "    def aperture(self):\n",
    "        val = 0.01 * np.ones(self.grid().num_cells)\n",
    "        return val\n",
    "    \n",
    "def assign_darcy_data(gb):\n",
    "    gb.add_node_props(['problem'])\n",
    "    for g, d in gb:\n",
    "        if g.dim == 2:\n",
    "            d['problem'] = MatrixDomain(g, d)\n",
    "        else:\n",
    "            d['problem'] = FractureDomain(g, d)\n",
    "            \n",
    "    # We loop over the edges and assign coupling permeability\n",
    "    for e, d in gb.edges():\n",
    "        d['kn'] = 100"
   ]
  },
  {
   "cell_type": "markdown",
   "metadata": {},
   "source": [
    "We are now ready to declare the problem and solve it"
   ]
  },
  {
   "cell_type": "code",
   "execution_count": 7,
   "metadata": {},
   "outputs": [
    {
     "name": "stderr",
     "output_type": "stream",
     "text": [
      "Solve elliptic model\n",
      "Discretize\n",
      "Done. Elapsed time 0.0376279354095459\n",
      "Solve linear system using direct solver\n",
      "Done. Elapsed time 0.0019690990447998047\n"
     ]
    },
    {
     "data": {
      "image/png": "[encoded data removed]",
      "text/plain": [
       "<matplotlib.figure.Figure at 0x7f48ca2a3d30>"
      ]
     },
     "metadata": {},
     "output_type": "display_data"
    }
   ],
   "source": [
    "assign_darcy_data(gb)\n",
    "problem = pp.EllipticModel(gb)\n",
    "problem.solve()\n",
    "problem.split('pressure')\n",
    "pp.plot_grid(gb, 'pressure')"
   ]
  },
  {
   "cell_type": "markdown",
   "metadata": {},
   "source": [
    "# Change discretization\n",
    "By default, the darcy solver uses the TPFA discretization for the fluxes. If we set an anisotropic permeability tensor, TPFA will not give a consistent discretization. In these cases we would like to use, e.g., the MPSA discretization. We can do this by overloading the flux_disc() function of the darcy solver. Note that we have already assigned data to the grid, so we do not have to do this again."
   ]
  },
  {
   "cell_type": "code",
   "execution_count": 8,
   "metadata": {},
   "outputs": [],
   "source": [
    "class DarcyMPFA(pp.EllipticModel):\n",
    "    def __init__(self, gb):\n",
    "        pp.EllipticModel.__init__(self, gb)\n",
    "    \n",
    "    def flux_disc(self):\n",
    "        return pp.MpfaMixedDim()"
   ]
  },
  {
   "cell_type": "code",
   "execution_count": 9,
   "metadata": {},
   "outputs": [
    {
     "name": "stderr",
     "output_type": "stream",
     "text": [
      "Solve elliptic model\n",
      "Discretize\n",
      "Done. Elapsed time 1.8492999076843262\n",
      "Solve linear system using direct solver\n",
      "Done. Elapsed time 0.001363515853881836\n"
     ]
    },
    {
     "data": {
      "image/png": "[encoded data removed]",
      "text/plain": [
       "<matplotlib.figure.Figure at 0x7f4934244630>"
      ]
     },
     "metadata": {},
     "output_type": "display_data"
    }
   ],
   "source": [
    "problem = DarcyMPFA(gb)\n",
    "problem.solve()\n",
    "problem.split('pressure')\n",
    "pp.plot_grid(gb, 'pressure')"
   ]
  }
 ],
 "metadata": {
  "kernelspec": {
   "display_name": "Python 3",
   "language": "python",
   "name": "python3"
  },
  "language_info": {
   "codemirror_mode": {
    "name": "ipython",
    "version": 3
   },
   "file_extension": ".py",
   "mimetype": "text/x-python",
   "name": "python",
   "nbconvert_exporter": "python",
   "pygments_lexer": "ipython3",
   "version": "3.6.3"
  }
 },
 "nbformat": 4,
 "nbformat_minor": 2
}
