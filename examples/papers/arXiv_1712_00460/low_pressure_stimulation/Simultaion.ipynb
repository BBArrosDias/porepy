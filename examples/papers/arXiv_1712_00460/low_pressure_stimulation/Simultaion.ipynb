{
 "cells": [
  {
   "cell_type": "markdown",
   "metadata": {},
   "source": [
    "# Low pressure stimulation of subsurface reservoir\n",
    "Description: This notebook presents a weakly coupled flow, mechanics and fracture deformation problem reported in the paper *PorePy: An Open-Source Simulation Tool for Flow and Transport in Deformable Fractured Rocks*, by\n",
    "Eirik Keilegavlen, Alessio Fumagalli, Runar Berge, Ivar Stefansson, Inga Berre. See arXiv:1712:00460 for details. The code in the notebook was that used to produce figure 7 in the paper, and if ran on a separate system, (almost) the same results should result - factors such as grid generation, linear solvers etc. may produce minor differences.\n",
    "\n",
    "To navigate quickly through the procedure, the main steps are: i) Create a mesh, ii) assign parameters for both flow and transport problems, iii) set up appropriate solvers, iv) discretize and solve. \n",
    "\n",
    "The equations we solve are:\n",
    "Flow:\n",
    "$$ \\phi c_f \\frac{\\partial p}{\\partial t} - \\nabla \\cdot \\mathcal K\\nabla p  = q$$\n",
    "\n",
    "Elasticity:\n",
    "$$ \\nabla \\cdot \\sigma = 0$$\n",
    "\n",
    "Friction:\n",
    "$$ T_s \\le \\mu (T_n - p)$$\n",
    "\n",
    "## Preliminaries\n",
    "To run this, you need to have PorePy installed and set up with Gmsh. The simulations will be time consuming. \n",
    "\n",
    "## Imports\n",
    "The first step is to import all dependencies"
   ]
  },
  {
   "cell_type": "code",
   "execution_count": 1,
   "metadata": {},
   "outputs": [],
   "source": [
    "# External modules\n",
    "import numpy as np\n",
    "import scipy.sparse as sps\n",
    "# For plotting \n",
    "from IPython.display import HTML, display\n",
    "# Porepy\n",
    "import porepy as pp"
   ]
  },
  {
   "cell_type": "markdown",
   "metadata": {},
   "source": [
    "## Grid generation\n",
    "The below function creates a 3D fracture network from a a set of elliptic fractures given in the data file fractures.csv."
   ]
  },
  {
   "cell_type": "code",
   "execution_count": 2,
   "metadata": {},
   "outputs": [],
   "source": [
    "def create_grid():\n",
    "    file_name = 'fractures.csv'  \n",
    "    data = np.genfromtxt(file_name, delimiter=',')\n",
    "    data = np.atleast_2d(data)\n",
    "    centers = data[:, 0:3]\n",
    "    maj_ax = data[:, 3]\n",
    "    min_ax = data[:, 4]\n",
    "    maj_ax_ang = data[:, 5]\n",
    "    strike_ang = data[:, 6]\n",
    "    dip_ang = data[:, 7]\n",
    "    if data.shape[1] == 9:\n",
    "        num_points = data[:, 8]\n",
    "    else:\n",
    "        num_points = 16 * np.ones(data.shape[0])\n",
    "\n",
    "    frac_list = []\n",
    "\n",
    "    for i in range(maj_ax.shape[0]):\n",
    "        frac_list.append(pp.EllipticFracture(centers[i, :],\n",
    "                                             maj_ax[i],\n",
    "                                             min_ax[i],\n",
    "                                             maj_ax_ang[i],\n",
    "                                             strike_ang[i],\n",
    "                                             dip_ang[i],\n",
    "                                             num_points[i]))\n",
    "    frac_network = pp.FractureNetwork(frac_list)\n",
    "    box = {'xmin': -5000, 'ymin': -5000, 'zmin': -5000,\n",
    "           'xmax': 10000, 'ymax':  10000, 'zmax': 10000}\n",
    "    gb = pp.meshing.simplex_grid(frac_network, box, h_ideal=10000, h_min = 200)\n",
    "    return gb\n"
   ]
  },
  {
   "cell_type": "markdown",
   "metadata": {},
   "source": [
    "## Problem setup: Parameter specification and solvers\n",
    "To set up the flow model, we will use a SlightlyCompressibleModel. The model automatically sets up simple discretization scheme, and tries to design decent linear solvers for the resulting systems of equations.\n",
    "\n",
    "### Pressure data\n",
    "The first step is to provide simulation data. Simulation parameters are stored as part of the GridBucket, but accessing this can be somewhat cumbersome. To assist the assignment, and also to provide a reasonable way of setting default parameters, each of the models (pre-defined solvers), are accompanied by a DataAssigner. This can be used directly to define a simulaiton with default parameters, or modified as desired. Below, we give an example for the pressure equation."
   ]
  },
  {
   "cell_type": "code",
   "execution_count": 3,
   "metadata": {},
   "outputs": [],
   "source": [
    "# The units module contains various physical constants\n",
    "# Set a relative high matrix permeability, this would correspond to\n",
    "# a quite high density of upscaled fractures.\n",
    "class MatrixDomain(pp.SlightlyCompressibleDataAssigner):\n",
    "    \"\"\" Set data for the 3D domain (matrix) in the pressure equation.\n",
    "    \n",
    "    Fields that are not assigned here, will have the default values \n",
    "    prescribed in SlighlyCompressibleDataAssigner (which again may point further to defaults\n",
    "    in the Parameter class).\n",
    "    \"\"\"        \n",
    "    def initial_condition(self):\n",
    "        p = 40 * pp.MEGA * pp.PASCAL\n",
    "        return p * np.ones(self.grid().num_cells)\n",
    "\n",
    "    def compressibility(self):\n",
    "        return 4.6e-10 / pp.PASCAL\n",
    "\n",
    "    def permeability(self):\n",
    "        kxx = np.ones(self.grid().num_cells) * pp.NANO * pp.DARCY\n",
    "        return pp.SecondOrderTensor(3, kxx / self.viscosity())\n",
    "\n",
    "    def viscosity(self):\n",
    "        return .45 * pp.MILLI * pp.PASCAL * pp.SECOND\n",
    "\n",
    "    def porosity(self):\n",
    "        return 0.01 * np.ones(self.grid().num_cells)\n",
    "\n",
    "    def density(self):\n",
    "        return 1014 * pp.KILOGRAM / pp.METER**3\n",
    "\n",
    "    \n",
    "class FractureDomain(MatrixDomain):\n",
    "    def __init__(self, g, data):\n",
    "        self.E0 = .1 * pp.MILLI * pp.METER * np.ones(g.num_cells)\n",
    "        self.Ed = 0. * np.ones(g.num_cells)        \n",
    "        MatrixDomain.__init__(self, g, data)\n",
    "\n",
    "    def aperture(self):\n",
    "        return (self.E0 + self.Ed)**(3 - self.grid().dim)\n",
    "\n",
    "    def permeability(self):\n",
    "        kxx = (self.E0 + self.Ed)**2 / 12\n",
    "        return pp.SecondOrderTensor(3, kxx / self.viscosity())\n",
    "#        return tensor.SecondOrder(self.g.dim, np.ones(self.g.num_cells))\n",
    "\n",
    "    def porosity(self):\n",
    "        return 1 * np.ones(self.grid().num_cells)\n",
    "\n",
    "\n",
    "class InjectionDomain(FractureDomain):\n",
    "    def source(self, t):\n",
    "        tol = 1e-4\n",
    "        value = np.zeros(self.grid().num_cells)\n",
    "\n",
    "        cell_coord = np.atleast_2d(np.array([1200, 2200, 2000])).T\n",
    "        distance = np.sqrt(np.sum(np.abs(self.grid().cell_centers - cell_coord)**2, axis=0))\n",
    "        cell = np.argmin(distance)\n",
    "\n",
    "        if t < 6000 * pp.SECOND + 1e-6:\n",
    "            value[cell] = 13.0 * pp.KILOGRAM / pp.SECOND / self.density()\n",
    "        return value\n"
   ]
  },
  {
   "cell_type": "markdown",
   "metadata": {},
   "source": [
    "### Mechanics data\n",
    "Next, we define the simulation data for the linear elasticity problem: $\\nabla\\cdot  \\sigma = 0$"
   ]
  },
  {
   "cell_type": "code",
   "execution_count": 4,
   "metadata": {},
   "outputs": [],
   "source": [
    "class MechDomain(pp.StaticDataAssigner):\n",
    "    \"\"\" Set data for the 3D domain (matrix) for the linear elasticity.\n",
    "    \n",
    "    Fields that are not assigned here, will have the default values \n",
    "    prescribed in StaticDataAssigner (which again may point further to defaults\n",
    "    in the Parameter class).\n",
    "    \"\"\"   \n",
    "    def bc(self):\n",
    "        \"\"\"\n",
    "        The default boundary condition is Neuman, so we overload this function \n",
    "        to define zero Dirichlet condition on the boundary. \n",
    "        \"\"\"\n",
    "        bc_cond = pp.BoundaryCondition(\n",
    "            self.grid(), self.grid().get_all_boundary_faces(), 'dir')\n",
    "        return bc_cond\n",
    "\n",
    "    def stress_tensor(self):\n",
    "        \"\"\"\n",
    "        We set the stress tensor based on the parameters assigned to the Rock class\n",
    "        \"\"\"\n",
    "        mu = self.data()['rock'].MU * np.ones(self.grid().num_cells)\n",
    "        lam = self.data()['rock'].LAMBDA * np.ones(self.grid().num_cells)\n",
    "        return pp.FourthOrderTensor(self.grid().dim, mu, lam)\n",
    "\n",
    "    def background_stress(self):\n",
    "        \"\"\"\n",
    "        The background stress defines stress tensor, and we assume the same stress\n",
    "        throughout our domain\n",
    "        \"\"\"\n",
    "        T_x = .120 * pp.GIGA * pp.PASCAL\n",
    "        T_y = .080 * pp.GIGA * pp.PASCAL\n",
    "        T_z = .100 * pp.GIGA * pp.PASCAL\n",
    "        sigma = -np.array([[T_x, 0, 0], [0, T_y, 0], [0, 0, T_z]])\n",
    "        return sigma\n"
   ]
  },
  {
   "cell_type": "markdown",
   "metadata": {},
   "source": [
    "### Assign data\n",
    "Having defined parameter classes for all geometric objects, assigning the data is easy: Simply loop over the GridBucket, and choose DataAssigner according to the grid dimension."
   ]
  },
  {
   "cell_type": "code",
   "execution_count": 5,
   "metadata": {},
   "outputs": [],
   "source": [
    "# Define method to assign parameters to all nodes in the GridBucket\n",
    "def assign_data(gb):\n",
    "    # First we define the rock\n",
    "    matrix_rock = pp.Granite()\n",
    "    matrix_rock.MU = 20 * pp.GIGA * pp.PASCAL\n",
    "    matrix_rock.LAMBDA = 20 * pp.GIGA * pp.PASCAL\n",
    "    \n",
    "    # We define the variable aperture_change which will be used to update the aperture\n",
    "    # at each time step\n",
    "    gb.add_node_props(['aperture_change'])\n",
    "    for g, d in gb:\n",
    "        d['aperture_change'] = np.zeros(g.num_cells)\n",
    "        if g.dim == 3:\n",
    "            d['rock'] = matrix_rock\n",
    "            d['flow_data'] = MatrixDomain(g, d)\n",
    "            d['mech_data'] = MechDomain(g, d)\n",
    "            d['slip_data'] = pp.FrictionSlipDataAssigner(g, d)\n",
    "        else:\n",
    "            # We define an injection in the first fracture\n",
    "            if d['node_number'] == 1:\n",
    "                d['flow_data'] = InjectionDomain(g, d)\n",
    "            else:\n",
    "                d['flow_data'] = FractureDomain(g, d)\n",
    "\n"
   ]
  },
  {
   "cell_type": "markdown",
   "metadata": {},
   "source": [
    "### Transfer data\n",
    "The linear elasticity and fracture deformation models are defined on the 3D grid. The traction calculations and shear and normal deformation will take place on the faces of the 3D grid that are connected to the 2D fracture cells. For the flow problem, however, the aperture and pressure are defined in the cells of the 2D fractures. We therefore need two simple functions that map data from the cells of 2D grids to faces of 3D grids and vice versa\n"
   ]
  },
  {
   "cell_type": "code",
   "execution_count": 6,
   "metadata": {},
   "outputs": [],
   "source": [
    "def cell_2_face(gb, variable):\n",
    "    g3 = gb.grids_of_dimension(3)[0]\n",
    "    data3 = gb.node_props(g3)\n",
    "    face_variable = np.zeros(g3.num_faces)\n",
    "    for g, d in gb:\n",
    "        if g.dim != 2:\n",
    "            continue\n",
    "        f_c = gb.edge_props((g3, g), 'face_cells')[0]\n",
    "        ci, fi, _ = sps.find(f_c)\n",
    "        face_variable[fi] = d[variable][ci]\n",
    "\n",
    "    data3['face_' + variable] = face_variable\n",
    "\n",
    "def face_2_cell(gb, variable):\n",
    "    g3 = gb.grids_of_dimension(3)[0]\n",
    "    data3 = gb.node_props(g3)\n",
    "    for g, d in gb:\n",
    "        if g.dim != 2:\n",
    "            continue\n",
    "        f_c = gb.edge_props((g3, g), 'face_cells')[0]\n",
    "        ci, fi, _ = sps.find(f_c)\n",
    "\n",
    "        cell_variable = np.zeros(g.num_cells)\n",
    "        num_hit = np.zeros(g.num_cells)\n",
    "        for i, face in enumerate(fi):\n",
    "            cell_variable[ci[i]] += data3[variable][face]\n",
    "            num_hit[ci[i]] += 1\n",
    "        d[variable] = cell_variable / num_hit\n"
   ]
  },
  {
   "cell_type": "markdown",
   "metadata": {},
   "source": [
    "### Aperture update\n",
    "\n",
    "At each time step the fracture may possible slip. If a fracture do slip we will get an equivalent increse in aperture. For convenience, we define a function that updates the aperture based on this aperture increase\n"
   ]
  },
  {
   "cell_type": "code",
   "execution_count": 7,
   "metadata": {},
   "outputs": [],
   "source": [
    "def update_aperture(gb, name='aperture_change'):\n",
    "    for g, d in gb:\n",
    "        if g.dim != 2:\n",
    "            continue\n",
    "        E0 = d['flow_data'].E0\n",
    "        d['param'].set_aperture(E0 + d[name])"
   ]
  },
  {
   "cell_type": "markdown",
   "metadata": {},
   "source": [
    "# Set up solvers\n",
    "We are finally ready to define our solver objects and solve for flow and temperature. With all parameters defined, this is a relatively simple code:"
   ]
  },
  {
   "cell_type": "code",
   "execution_count": 8,
   "metadata": {},
   "outputs": [
    {
     "name": "stdout",
     "output_type": "stream",
     "text": [
      "Use existing decomposition\n",
      "Minimal distance between points encountered is 22.9549934711\n",
      "Gmsh processed file successfully\n",
      "\n",
      "\n",
      "Grid creation completed. Elapsed time 0.2785184383392334\n",
      "\n",
      "\n",
      "Created 1 3-d grids with 6579 cells\n",
      "Created 7 2-d grids with 1297 cells\n",
      "Created 11 1-d grids with 45 cells\n",
      "Created 1 0-d grids with 1 cells\n",
      "\n",
      "\n"
     ]
    }
   ],
   "source": [
    "gb = create_grid()\n",
    "g3 = gb.grids_of_dimension(3)[0]\n",
    "data3 = gb.node_props(g3)\n",
    "\n",
    "# Create an exporter object, and dump the grid\n",
    "exporter = pp.Exporter(gb, 'low_pressure_stimulation', folder='results')\n",
    "exporter.write_vtk()"
   ]
  },
  {
   "cell_type": "markdown",
   "metadata": {},
   "source": [
    "The resulting grid looks like this, after some manipulation in Paraview"
   ]
  },
  {
   "cell_type": "code",
   "execution_count": 9,
   "metadata": {},
   "outputs": [
    {
     "data": {
      "text/html": [
       "<img src='fig/mesh.png'>"
      ],
      "text/plain": [
       "<IPython.core.display.HTML object>"
      ]
     },
     "metadata": {},
     "output_type": "display_data"
    }
   ],
   "source": [
    "display(HTML(\"<img src='fig/mesh.png'>\"))"
   ]
  },
  {
   "cell_type": "markdown",
   "metadata": {
    "collapsed": true
   },
   "source": [
    "### Define solvers\n",
    "The flow problem is dependent on time, and needs the time step as an argument. The mechanics and fracture deformation are both quasi-static, i.e., slip happens instantaneous when the Mohr-Colomb criterion is violated\n"
   ]
  },
  {
   "cell_type": "code",
   "execution_count": 10,
   "metadata": {},
   "outputs": [
    {
     "name": "stderr",
     "output_type": "stream",
     "text": [
      "/home/rbe051/uib/porepy/src/porepy/params/bc.py:86: UserWarning: You are now specifying conditions on internal                               boundaries. Be very careful!\n",
      "  boundaries. Be very careful!')\n"
     ]
    }
   ],
   "source": [
    "# Define the time stepping\n",
    "dt = 10 * pp.MINUTE\n",
    "T = 18 * dt\n",
    "t = 0\n",
    "# Assign data to grid bucket\n",
    "assign_data(gb)\n",
    "\n",
    "# Define pressure solver for the given grid.\n",
    "# This will assign parameters, using the above classes\n",
    "flow_solver = pp.SlightlyCompressibleModel(gb, time_step=dt)\n",
    "mech_solver = pp.StaticModel(g3, data3)\n",
    "friction_solver = pp.FrictionSlipModel(g3, data3)\n"
   ]
  },
  {
   "cell_type": "markdown",
   "metadata": {},
   "source": [
    "## Define Time loop"
   ]
  },
  {
   "cell_type": "code",
   "execution_count": 11,
   "metadata": {},
   "outputs": [
    {
     "name": "stderr",
     "output_type": "stream",
     "text": [
      "/home/rbe051/anaconda3/envs/porepy/lib/python3.6/site-packages/ipykernel_launcher.py:28: RuntimeWarning: invalid value encountered in true_divide\n"
     ]
    },
    {
     "name": "stdout",
     "output_type": "stream",
     "text": [
      "Solving time step:  1\n"
     ]
    },
    {
     "name": "stderr",
     "output_type": "stream",
     "text": [
      "/home/rbe051/anaconda3/envs/porepy/lib/python3.6/site-packages/scipy/sparse/linalg/dsolve/linsolve.py:295: SparseEfficiencyWarning: splu requires CSC matrix format\n",
      "  warn('splu requires CSC matrix format', SparseEfficiencyWarning)\n",
      "/home/rbe051/anaconda3/envs/porepy/lib/python3.6/site-packages/ipykernel_launcher.py:28: RuntimeWarning: invalid value encountered in true_divide\n",
      "/home/rbe051/uib/porepy/src/porepy/params/data.py:204: RuntimeWarning: invalid value encountered in less\n",
      "  if np.any(val < 0):\n"
     ]
    },
    {
     "name": "stdout",
     "output_type": "stream",
     "text": [
      "Solving time step:  2\n"
     ]
    },
    {
     "name": "stderr",
     "output_type": "stream",
     "text": [
      "/home/rbe051/anaconda3/envs/porepy/lib/python3.6/site-packages/scipy/sparse/linalg/dsolve/linsolve.py:192: MatrixRankWarning: Matrix is exactly singular\n",
      "  warn(\"Matrix is exactly singular\", MatrixRankWarning)\n",
      "/home/rbe051/uib/porepy/src/porepy/numerics/fracture_deformation.py:117: RuntimeWarning: invalid value encountered in greater\n",
      "  assert np.all(sigma_n > 0 )\n"
     ]
    },
    {
     "ename": "AssertionError",
     "evalue": "",
     "output_type": "error",
     "traceback": [
      "\u001b[0;31m---------------------------------------------------------------------------\u001b[0m",
      "\u001b[0;31mAssertionError\u001b[0m                            Traceback (most recent call last)",
      "\u001b[0;32m<ipython-input-11-91c37aec35ac>\u001b[0m in \u001b[0;36m<module>\u001b[0;34m()\u001b[0m\n\u001b[1;32m     33\u001b[0m         \u001b[0mmech_solver\u001b[0m\u001b[0;34m.\u001b[0m\u001b[0msolve\u001b[0m\u001b[0;34m(\u001b[0m\u001b[0mdiscretize\u001b[0m\u001b[0;34m=\u001b[0m\u001b[0;32mFalse\u001b[0m\u001b[0;34m)\u001b[0m\u001b[0;34m\u001b[0m\u001b[0m\n\u001b[1;32m     34\u001b[0m         \u001b[0mmech_solver\u001b[0m\u001b[0;34m.\u001b[0m\u001b[0mtraction\u001b[0m\u001b[0;34m(\u001b[0m\u001b[0;34m'traction'\u001b[0m\u001b[0;34m)\u001b[0m\u001b[0;34m\u001b[0m\u001b[0m\n\u001b[0;32m---> 35\u001b[0;31m         \u001b[0mdo_slip\u001b[0m \u001b[0;34m=\u001b[0m \u001b[0mfriction_solver\u001b[0m\u001b[0;34m.\u001b[0m\u001b[0mstep\u001b[0m\u001b[0;34m(\u001b[0m\u001b[0;34m)\u001b[0m\u001b[0;34m\u001b[0m\u001b[0m\n\u001b[0m\u001b[1;32m     36\u001b[0m         \u001b[0mdata3\u001b[0m\u001b[0;34m[\u001b[0m\u001b[0;34m'param'\u001b[0m\u001b[0;34m]\u001b[0m\u001b[0;34m.\u001b[0m\u001b[0mset_slip_distance\u001b[0m\u001b[0;34m(\u001b[0m\u001b[0mfriction_solver\u001b[0m\u001b[0;34m.\u001b[0m\u001b[0mx\u001b[0m\u001b[0;34m.\u001b[0m\u001b[0mravel\u001b[0m\u001b[0;34m(\u001b[0m\u001b[0;34m'F'\u001b[0m\u001b[0;34m)\u001b[0m\u001b[0;34m)\u001b[0m\u001b[0;34m\u001b[0m\u001b[0m\n\u001b[1;32m     37\u001b[0m \u001b[0;34m\u001b[0m\u001b[0m\n",
      "\u001b[0;32m~/uib/porepy/src/porepy/numerics/fracture_deformation.py\u001b[0m in \u001b[0;36mstep\u001b[0;34m(self)\u001b[0m\n\u001b[1;32m    244\u001b[0m         \u001b[0mcalls\u001b[0m \u001b[0mself\u001b[0m\u001b[0;34m.\u001b[0m\u001b[0msolve\u001b[0m\u001b[0;34m(\u001b[0m\u001b[0;34m)\u001b[0m\u001b[0;34m\u001b[0m\u001b[0m\n\u001b[1;32m    245\u001b[0m         \"\"\"\n\u001b[0;32m--> 246\u001b[0;31m         \u001b[0;32mreturn\u001b[0m \u001b[0mself\u001b[0m\u001b[0;34m.\u001b[0m\u001b[0msolve\u001b[0m\u001b[0;34m(\u001b[0m\u001b[0;34m)\u001b[0m\u001b[0;34m\u001b[0m\u001b[0m\n\u001b[0m\u001b[1;32m    247\u001b[0m \u001b[0;34m\u001b[0m\u001b[0m\n\u001b[1;32m    248\u001b[0m     \u001b[0;32mdef\u001b[0m \u001b[0mgrid\u001b[0m\u001b[0;34m(\u001b[0m\u001b[0mself\u001b[0m\u001b[0;34m)\u001b[0m\u001b[0;34m:\u001b[0m\u001b[0;34m\u001b[0m\u001b[0m\n",
      "\u001b[0;32m~/uib/porepy/src/porepy/numerics/fracture_deformation.py\u001b[0m in \u001b[0;36msolve\u001b[0;34m(self)\u001b[0m\n\u001b[1;32m    115\u001b[0m         \u001b[0;31m# and all the normal tractions should be negative.\u001b[0m\u001b[0;34m\u001b[0m\u001b[0;34m\u001b[0m\u001b[0m\n\u001b[1;32m    116\u001b[0m         \u001b[0msigma_n\u001b[0m \u001b[0;34m=\u001b[0m \u001b[0;34m-\u001b[0m\u001b[0mT_n\u001b[0m \u001b[0;34m-\u001b[0m \u001b[0mself\u001b[0m\u001b[0;34m.\u001b[0m\u001b[0m_data\u001b[0m\u001b[0;34m[\u001b[0m\u001b[0;34m'face_pressure'\u001b[0m\u001b[0;34m]\u001b[0m\u001b[0;34m[\u001b[0m\u001b[0mfi\u001b[0m\u001b[0;34m]\u001b[0m\u001b[0;34m\u001b[0m\u001b[0m\n\u001b[0;32m--> 117\u001b[0;31m         \u001b[0;32massert\u001b[0m \u001b[0mnp\u001b[0m\u001b[0;34m.\u001b[0m\u001b[0mall\u001b[0m\u001b[0;34m(\u001b[0m\u001b[0msigma_n\u001b[0m \u001b[0;34m>\u001b[0m \u001b[0;36m0\u001b[0m \u001b[0;34m)\u001b[0m\u001b[0;34m\u001b[0m\u001b[0m\n\u001b[0m\u001b[1;32m    118\u001b[0m         \u001b[0mnew_slip\u001b[0m \u001b[0;34m=\u001b[0m \u001b[0mT_s\u001b[0m \u001b[0;34m-\u001b[0m\u001b[0;31m \u001b[0m\u001b[0;31m\\\u001b[0m\u001b[0;34m\u001b[0m\u001b[0m\n\u001b[1;32m    119\u001b[0m             \u001b[0mself\u001b[0m\u001b[0;34m.\u001b[0m\u001b[0mmu\u001b[0m\u001b[0;34m(\u001b[0m\u001b[0mfi\u001b[0m\u001b[0;34m,\u001b[0m \u001b[0mself\u001b[0m\u001b[0;34m.\u001b[0m\u001b[0mis_slipping\u001b[0m\u001b[0;34m[\u001b[0m\u001b[0mfi\u001b[0m\u001b[0;34m]\u001b[0m\u001b[0;34m)\u001b[0m \u001b[0;34m*\u001b[0m\u001b[0;31m \u001b[0m\u001b[0;31m\\\u001b[0m\u001b[0;34m\u001b[0m\u001b[0m\n",
      "\u001b[0;31mAssertionError\u001b[0m: "
     ]
    }
   ],
   "source": [
    "# save initial condition\n",
    "flow_solver.pressure('pressure')\n",
    "friction_solver.aperture_change('aperture_change')\n",
    "face_2_cell(gb, 'aperture_change')\n",
    "exporter.write_vtk(['pressure', 'aperture_change'], 0)\n",
    "\n",
    "# Discretize linear elasticity\n",
    "mech_solver.reassemble()\n",
    "\n",
    "# List for storing discretization times\n",
    "time_steps = []\n",
    "time_steps.append(t)\n",
    "k = 0\n",
    "\n",
    "while t < T:\n",
    "    t += dt\n",
    "    k += 1\n",
    "    time_steps.append(t)\n",
    "    print('Solving time step: ', k)\n",
    "    \n",
    "    # Solve flow\n",
    "    flow_solver._solver.update(t)    # Update injection\n",
    "    flow_solver.reassemble()         # Reasemble rhs\n",
    "    flow_solver.step()               # solve for next time step\n",
    "    flow_solver.pressure('pressure') # save solution to data\n",
    "    cell_2_face(gb, 'pressure')      # map cell pressure to 3D faces\n",
    "\n",
    "    # solve mechanics\n",
    "    do_slip = True\n",
    "    # At the start of each time step we assume no fractures are slipping\n",
    "    friction_solver.is_slipping = np.zeros(g3.num_faces, dtype=np.bool)\n",
    "    while np.any(do_slip):\n",
    "        mech_solver.solve(discretize=False)\n",
    "        mech_solver.traction('traction')\n",
    "        do_slip = friction_solver.step()\n",
    "        data3['param'].set_slip_distance(friction_solver.x.ravel('F'))\n",
    " \n",
    "    friction_solver.aperture_change('aperture_change')  # Save aperture change to data\n",
    "    face_2_cell(gb, 'aperture_change')                  # Map aperture change to 2D cells\n",
    "    update_aperture(gb)                                 # Update the aperture\n",
    "    exporter.write_vtk(['pressure', 'aperture_change'], time_step=k)\n",
    "\n",
    "exporter.write_pvd(np.array(time_steps))\n"
   ]
  },
  {
   "cell_type": "markdown",
   "metadata": {},
   "source": [
    "Here is what the evolution in aperture looks like"
   ]
  },
  {
   "cell_type": "code",
   "execution_count": null,
   "metadata": {},
   "outputs": [],
   "source": [
    "HTML('<img src=\"fig/aperture_change.gif\">')"
   ]
  }
 ],
 "metadata": {
  "kernelspec": {
   "display_name": "Python 3",
   "language": "python",
   "name": "python3"
  },
  "language_info": {
   "codemirror_mode": {
    "name": "ipython",
    "version": 3
   },
   "file_extension": ".py",
   "mimetype": "text/x-python",
   "name": "python",
   "nbconvert_exporter": "python",
   "pygments_lexer": "ipython3",
   "version": "3.6.3"
  }
 },
 "nbformat": 4,
 "nbformat_minor": 2
}
