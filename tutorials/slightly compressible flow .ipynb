{
 "cells": [
  {
   "cell_type": "markdown",
   "metadata": {},
   "source": []
  },
  {
   "cell_type": "markdown",
   "metadata": {},
   "source": [
    "# Slightly compressible flow\n",
    "In this tutorial we investigate how to use **PorePy** to solve slighlty compresible flow. <br>\n",
    "\n",
    "\n",
    "**Note**: This tutorial will focus on a 2d domain, however most of the code works for 1d, 2d, and 3d domains.<br>\n",
    "\n",
    "Let is $\\Omega$ a regular domain with boundary $\\partial \\Omega$. The boundary can be divided in two non-overlapping parts useful to impose Dirichlet ($\\partial \\Omega_d$) and Neumann ($\\partial \\Omega_n$) boundary conditions. We indicate with $\\mathbf{n}$ the outward unit normal vector of $\\partial \\Omega$.<br>\n",
    "The single-phase flow can be written in primal formulation as:\n",
    "\n",
    "$$ \\phi\\frac{\\partial\\rho}{\\partial t}- \\nabla \\cdot \\rho K \\nabla p = \\rho f $$\n",
    "with boundary conditions on $\\partial \\Omega_d$ and $\\partial \\Omega_n$:\n",
    "$$ p = p_b \\qquad - K \\nabla p \\cdot \\mathbf{n} = u_b$$\n",
    "\n",
    "Where $\\phi$ is the porosity, $\\rho$ is the fluid density, $f$ is a scalar source/sink term, $K$ is the permeability matrix, $p_b$ is the pressure at the boundary (Dirichlet condition), and $u_b$ is the flux at the boundary (Neumann condition).<br>\n",
    "\n",
    "As a relationship between pressure and density we use $c_p\\rho = \\text{d}\\rho/\\text{d}p$. Assuming slightly compressible flow (e.g., $\\nabla\\rho\\cdot K\\nabla p \\ll 1$) we can write conservation of mass as\n",
    "\n",
    "$$c_p\\phi\\frac{\\partial p}{\\partial t} - \\nabla \\cdot K \\nabla p = f $$\n",
    "\n",
    "We now discretize in time using backward Euler and time step $k$:\n",
    "$$c_p\\phi\\frac{p^{k+1} - p^k}{k} - \\nabla \\cdot K \\nabla p^{k+1} = f^{k+1} $$\n"
   ]
  },
  {
   "cell_type": "markdown",
   "metadata": {},
   "source": [
    "# Import modules\n",
    "\n",
    "First we have to import the modules."
   ]
  },
  {
   "cell_type": "code",
   "execution_count": 1,
   "metadata": {
    "collapsed": true
   },
   "outputs": [],
   "source": [
    "import numpy as np\n",
    "import matplotlib.pyplot as plt\n",
    "\n",
    "from porepy.numerics.compressible.problems import SlightlyCompressible, SlightlyCompressibleData\n",
    "from porepy.fracs import meshing\n",
    "from porepy.params import tensor\n",
    "from porepy.viz import plot_grid"
   ]
  },
  {
   "cell_type": "markdown",
   "metadata": {},
   "source": [
    "# Define problem:\n",
    "We define our problem in the unit square. We let our problem inherit from the compressible problem base class to set default values. We create two different types of problems, one for the fractures, and one for the matrix. For the fractures we use all the standard parameters, but we set the apperture to 0.01. We also define a source term in the intersection of the two fractures"
   ]
  },
  {
   "cell_type": "code",
   "execution_count": 2,
   "metadata": {
    "collapsed": true
   },
   "outputs": [],
   "source": [
    "class MatrixDomain(SlightlyCompressibleData):\n",
    "    def __init__(self, g, data):\n",
    "        SlightlyCompressibleData.__init__(self, g, data)\n",
    "\n",
    "class FractureDomain(MatrixDomain):\n",
    "    def __init__(self, g, data):\n",
    "        MatrixDomain.__init__(self, g, data)\n",
    "        \n",
    "    def permeability(self):\n",
    "        kxx = 1000 * np.ones(self.grid().num_cells)\n",
    "        return tensor.SecondOrder(2, kxx)\n",
    "    \n",
    "    def aperture(self):\n",
    "        return np.power(0.001, 2 - self.grid().dim)\n",
    "\n",
    "class IntersectionDomain(FractureDomain):\n",
    "    def __init__(self, g, data):\n",
    "        FractureDomain.__init__(self, g, data)\n",
    "\n",
    "    def source(self, t):\n",
    "        assert self.grid().num_cells == 1, 'Assumes Intersection domain only has 1 cell'\n",
    "        f = .4 * self.grid().cell_volumes  # m**3/s\n",
    "        return f * (t < .05)\n",
    "    \n",
    "def set_sub_problems(gb):\n",
    "    gb.add_node_props(['problem'])\n",
    "    for g, d in gb:\n",
    "        if g.dim == 2:\n",
    "            d['problem'] = MatrixDomain(g, d)\n",
    "        elif g.dim == 1:\n",
    "            d['problem'] = FractureDomain(g, d)\n",
    "        elif g.dim == 0:\n",
    "            d['problem'] = IntersectionDomain(g, d)\n",
    "        else:\n",
    "            raise ValueError('Unkown grid-dimension %d' %g.dim)"
   ]
  },
  {
   "cell_type": "markdown",
   "metadata": {},
   "source": [
    "We can now create the global problem, which inherits from the SlightlyCompressibleMultiDim class. The important thing to notice with this classs is the set_sub_problem() function. Here we define a problem for each of the grids in the GridBucket, which is stored in the data with the keyword 'problem'"
   ]
  },
  {
   "cell_type": "code",
   "execution_count": 3,
   "metadata": {
    "collapsed": true
   },
   "outputs": [],
   "source": [
    "class UnitSquareInjection(SlightlyCompressible):\n",
    "\n",
    "    def __init__(self):\n",
    "        nx = 12\n",
    "        ny = 12\n",
    "        frac1 = np.array([[0, 1], [.5, .5]])\n",
    "        frac2 = np.array([[.5, .5], [0, 1]])\n",
    "        fracs = [frac1, frac2]\n",
    "        physdims = [1, 1]\n",
    "        g = meshing.cart_grid(fracs, [nx, ny], physdims=physdims)\n",
    "        g.assign_node_ordering()\n",
    "        g.compute_geometry()\n",
    "        set_sub_problems(g)\n",
    "        # Initialize base class\n",
    "        SlightlyCompressible.__init__(self, g)\n",
    "\n",
    "\n",
    "    #--------Time stepping------------\n",
    "    def time_step(self):\n",
    "        return .001\n",
    "\n",
    "    def end_time(self):\n",
    "        return 0.1"
   ]
  },
  {
   "cell_type": "markdown",
   "metadata": {},
   "source": [
    "We now initialize the problem and solve it:"
   ]
  },
  {
   "cell_type": "code",
   "execution_count": 4,
   "metadata": {},
   "outputs": [],
   "source": [
    "problem = UnitSquareInjection()\n",
    "solution = problem.solve()"
   ]
  },
  {
   "cell_type": "markdown",
   "metadata": {},
   "source": [
    "And we can plot the result"
   ]
  },
  {
   "cell_type": "code",
   "execution_count": 5,
   "metadata": {},
   "outputs": [
    {
     "data": {
      "image/png": "[encoded data removed]",
      "text/plain": [
       "<matplotlib.figure.Figure at 0x7f30112096d8>"
      ]
     },
     "metadata": {},
     "output_type": "display_data"
    },
    {
     "data": {
      "image/png": "[encoded data removed]",
      "text/plain": [
       "<matplotlib.figure.Figure at 0x7f3011171ba8>"
      ]
     },
     "metadata": {},
     "output_type": "display_data"
    }
   ],
   "source": [
    "pressures = solution['flow']\n",
    "time_steps = [50,100]\n",
    "dt = problem.time_step()\n",
    "\n",
    "for t in time_steps:\n",
    "    p = pressures[t]\n",
    "    problem.time_disc().split(problem.grid(), 'pressure', p)\n",
    "    plot_grid.plot_grid(problem.grid(), 'pressure', color_map = [0, 0.04], if_plot=False)\n",
    "    plt.title('pressure at time: %g s' %(t*dt))\n",
    "    plt.show()"
   ]
  }
 ],
 "metadata": {
  "kernelspec": {
   "display_name": "Python 3",
   "language": "python",
   "name": "python3"
  },
  "language_info": {
   "codemirror_mode": {
    "name": "ipython",
    "version": 3
   },
   "file_extension": ".py",
   "mimetype": "text/x-python",
   "name": "python",
   "nbconvert_exporter": "python",
   "pygments_lexer": "ipython3",
   "version": "3.5.3"
  }
 },
 "nbformat": 4,
 "nbformat_minor": 2
}
