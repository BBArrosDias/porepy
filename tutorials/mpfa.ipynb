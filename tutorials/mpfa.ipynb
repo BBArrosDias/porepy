{
 "cells": [
  {
   "cell_type": "markdown",
   "metadata": {},
   "source": [
    "# Multi-point flux approximation (MPFA)"
   ]
  },
  {
   "cell_type": "markdown",
   "metadata": {},
   "source": [
    "Porepy supports mpfa discretization for darcy flow problem:\n",
    "\\begin{equation}\n",
    "q = -K \\nabla p,\\quad \\nabla \\cdot q = f\n",
    "\\end{equation}\n",
    "\n",
    "We can write this as a single equation of pressure:\n",
    "\\begin{equation}\n",
    "-\\nabla \\cdot K\\nabla  p = f\n",
    "\\end{equation}\n",
    "\n",
    "For each control volume $\\Omega_k$ we then have\n",
    "\\begin{equation}\n",
    "\\int_{\\Omega_k} f dv = \\int_{\\partial\\Omega_k} (K\\nabla p)\\cdot n dA,\n",
    "\\end{equation}\n",
    "\n"
   ]
  },
  {
   "cell_type": "markdown",
   "metadata": {
    "collapsed": true
   },
   "source": [
    "To solve this system we first have to create the grid. Then we need to define boundary conditions. We set the bottom boundary as a Dirichlet boundary. The other boundaries are set to Neuman. We also need to create the permeability tensor:"
   ]
  },
  {
   "cell_type": "code",
   "execution_count": 1,
   "metadata": {},
   "outputs": [],
   "source": [
    "import numpy as np\n",
    "\n",
    "from porepy.grids import structured\n",
    "from porepy.numerics.fv import mpfa\n",
    "from porepy.params import second_order_tensor, bc\n",
    "\n",
    "# Create grid\n",
    "n = 5\n",
    "g = structured.CartGrid([n,n])\n",
    "g.compute_geometry()\n",
    "\n",
    "# Define boundary type\n",
    "dirich = np.ravel(np.argwhere(g.face_centers[1] < 1e-10))\n",
    "bound = bc.BoundaryCondition(g, dirich, ['dir']*dirich.size)\n",
    "\n",
    "# Create stiffness matrix\n",
    "k = np.ones(g.num_cells)\n",
    "constit = second_order_tensor.SecondOrderTensor(g.dim, k)"
   ]
  },
  {
   "cell_type": "markdown",
   "metadata": {},
   "source": [
    "We now define the boundary conditions. We set zero pressure on the bottom boundary, and a constant innflow on the top boundary. Note that the traction on the Neumann boundary is the discharge, not the flux. To get the discharge for each boundary face we scale the flux by the face areas."
   ]
  },
  {
   "cell_type": "code",
   "execution_count": 2,
   "metadata": {
    "collapsed": true
   },
   "outputs": [],
   "source": [
    "top_faces = np.ravel(np.argwhere(g.face_centers[1] > n - 1e-10))\n",
    "bot_faces = np.ravel(np.argwhere(g.face_centers[1] < 1e-10))\n",
    "\n",
    "p_b = np.zeros(g.num_faces)\n",
    "p_b[top_faces] = 1 * g.face_areas[top_faces]\n",
    "p_b[bot_faces] = 0\n"
   ]
  },
  {
   "cell_type": "markdown",
   "metadata": {},
   "source": [
    "We can now solv this problem using the Mpfa-class. We assume no source or sinks $f=0$:"
   ]
  },
  {
   "cell_type": "code",
   "execution_count": 3,
   "metadata": {},
   "outputs": [],
   "source": [
    "mpfa_solver = mpfa.Mpfa()\n",
    "\n",
    "f = np.zeros(g.num_cells)\n",
    "data = {'k': constit, 'bc': bound, 'bc_val': p_b, 'f': f}\n",
    "A, b = mpfa_solver.matrix_rhs(g, data)\n",
    "\n",
    "p_class = np.linalg.solve(A.A, b)"
   ]
  },
  {
   "cell_type": "code",
   "execution_count": 4,
   "metadata": {},
   "outputs": [
    {
     "data": {
      "image/png": "[encoded data removed]",
      "text/plain": [
       "<matplotlib.figure.Figure at 0x7ff73d3b42b0>"
      ]
     },
     "metadata": {},
     "output_type": "display_data"
    }
   ],
   "source": [
    "from porepy.viz import plot_grid\n",
    "\n",
    "plot_grid.plot_grid(g, cell_value=p_class)"
   ]
  },
  {
   "cell_type": "markdown",
   "metadata": {},
   "source": [
    "To understand what goes on under the hood of the Mpfa class, we can also create the lhs and rhs manually. \n",
    "\n",
    "We start by discretizing the fluxes by using the multi-point stress approximation"
   ]
  },
  {
   "cell_type": "code",
   "execution_count": 5,
   "metadata": {
    "collapsed": true
   },
   "outputs": [],
   "source": [
    "flux, bound_flux = mpfa.mpfa(g, constit, bound)"
   ]
  },
  {
   "cell_type": "markdown",
   "metadata": {},
   "source": [
    "MPFA returns the two sparse matrices \"flux\" and \"bound_flux\". They give  the discretization of the fluxes over each face:\n",
    "\\begin{equation}\n",
    "F = \\text{flux} \\cdot p + \\text{bound_flux} \\cdot p_b\n",
    "\\end{equation}\n",
    "Here $p$ is a vector of cell center pressure and has length g.num_cells. The vector $p_b$ is the boundary condition values. It is the pressure for Dirichlet boundaries and flux for Neumann boundaries and has length g.num_faces.\n"
   ]
  },
  {
   "cell_type": "markdown",
   "metadata": {},
   "source": [
    "We are now ready to set up the linear system of equations and solve it. We assume no source and sinks $f = 0$. Each row in the discretized system is now\n",
    "\\begin{equation}\n",
    "\\int_{\\Omega_k} f dv = \\int_{\\partial\\Omega_k} F dA = [div \\cdot \\text{flux} \\cdot p + div\\cdot\\text{bound_flux}\\cdot p_b]_k,\n",
    "\\end{equation}\n",
    "We move the known boundary variable $u_b$ over to the right hand side and solve the system:\n"
   ]
  },
  {
   "cell_type": "code",
   "execution_count": 6,
   "metadata": {},
   "outputs": [],
   "source": [
    "from porepy.numerics.fv.fvutils import scalar_divergence\n",
    "\n",
    "\n",
    "div = scalar_divergence(g)\n",
    "A = div * flux\n",
    "b = f - div * bound_flux * p_b\n",
    "\n",
    "p = np.linalg.solve(A.A, b)"
   ]
  },
  {
   "cell_type": "markdown",
   "metadata": {},
   "source": [
    "This gives us the save results as using the Mpfa class:\n"
   ]
  },
  {
   "cell_type": "code",
   "execution_count": 7,
   "metadata": {},
   "outputs": [],
   "source": [
    "assert np.allclose(p, p_class)"
   ]
  },
  {
   "cell_type": "markdown",
   "metadata": {},
   "source": [
    "We can also plot the pressure"
   ]
  },
  {
   "cell_type": "code",
   "execution_count": 8,
   "metadata": {},
   "outputs": [
    {
     "data": {
      "image/png": "[encoded data removed]",
      "text/plain": [
       "<matplotlib.figure.Figure at 0x7ff73d3b4240>"
      ]
     },
     "metadata": {},
     "output_type": "display_data"
    }
   ],
   "source": [
    "plot_grid.plot_grid(g, cell_value=p)"
   ]
  },
  {
   "cell_type": "markdown",
   "metadata": {},
   "source": [
    "We can also retrieve the flux for each face. "
   ]
  },
  {
   "cell_type": "code",
   "execution_count": 9,
   "metadata": {},
   "outputs": [
    {
     "data": {
      "image/png": "[encoded data removed]",
      "text/plain": [
       "<matplotlib.figure.Figure at 0x7ff70e319390>"
      ]
     },
     "metadata": {},
     "output_type": "display_data"
    }
   ],
   "source": [
    "F = flux * p + bound_flux * p_b\n",
    "\n",
    "neumann_faces = np.argwhere(bound.is_neu)\n",
    "\n",
    "assert np.allclose(np.abs(p_b[neumann_faces]), np.abs(F[neumann_faces]))\n",
    "\n",
    "F_n = F * g.face_normals\n",
    "plot_grid.plot_grid(g, vector_value=50*F_n)"
   ]
  }
 ],
 "metadata": {
  "kernelspec": {
   "display_name": "Python 3",
   "language": "python",
   "name": "python3"
  },
  "language_info": {
   "codemirror_mode": {
    "name": "ipython",
    "version": 3
   },
   "file_extension": ".py",
   "mimetype": "text/x-python",
   "name": "python",
   "nbconvert_exporter": "python",
   "pygments_lexer": "ipython3",
   "version": "3.5.3"
  }
 },
 "nbformat": 4,
 "nbformat_minor": 2
}
