{
 "cells": [
  {
   "cell_type": "markdown",
   "metadata": {},
   "source": [
    "# Introduction\n",
    "Currently, the standard procedure within PorePy is to export data to vtu and pvd format for visualization with ParaView. This tutorial explains how to use the 'Exporter'. In particular, it will showcase different ways to address data, how constant-in-time data is handled, and how pvd-files are managed. \n",
    "\n",
    "First, an example data set is defined, then the actual exporter is defined, before currently all possible ways to export data are demonstrated.\n",
    "\n",
    "NOTE: Related but not necessary for this tutorial: it is highly recommended to read the ParaView documentation. "
   ]
  },
  {
   "cell_type": "markdown",
   "metadata": {},
   "source": [
    "## Example contact mechanics model for a mixed-dimensional geometry\n",
    "In order to illustrate the capability and explain the use of the Exporter, we consider a ContactMechanicsBiot model for a two-dimensional fractured geometry. The mixed-dimensional geometry consists of a 2D square and two crossing 1D fractures."
   ]
  },
  {
   "cell_type": "code",
   "execution_count": 2,
   "metadata": {},
   "outputs": [
    {
     "name": "stderr",
     "output_type": "stream",
     "text": [
      "\n",
      "Bad key text.latex.preview in file /home/jakub/anaconda3/lib/python3.7/site-packages/matplotlib/mpl-data/stylelib/_classic_test.mplstyle, line 123 ('text.latex.preview : False')\n",
      "You probably need to get an updated matplotlibrc file from\n",
      "https://github.com/matplotlib/matplotlib/blob/v3.5.1/matplotlibrc.template\n",
      "or from the matplotlib source distribution\n",
      "\n",
      "Bad key mathtext.fallback_to_cm in file /home/jakub/anaconda3/lib/python3.7/site-packages/matplotlib/mpl-data/stylelib/_classic_test.mplstyle, line 155 ('mathtext.fallback_to_cm : True  # When True, use symbols from the Computer Modern')\n",
      "You probably need to get an updated matplotlibrc file from\n",
      "https://github.com/matplotlib/matplotlib/blob/v3.5.1/matplotlibrc.template\n",
      "or from the matplotlib source distribution\n",
      "\n",
      "Bad key savefig.jpeg_quality in file /home/jakub/anaconda3/lib/python3.7/site-packages/matplotlib/mpl-data/stylelib/_classic_test.mplstyle, line 418 ('savefig.jpeg_quality: 95       # when a jpeg is saved, the default quality parameter.')\n",
      "You probably need to get an updated matplotlibrc file from\n",
      "https://github.com/matplotlib/matplotlib/blob/v3.5.1/matplotlibrc.template\n",
      "or from the matplotlib source distribution\n",
      "\n",
      "Bad key keymap.all_axes in file /home/jakub/anaconda3/lib/python3.7/site-packages/matplotlib/mpl-data/stylelib/_classic_test.mplstyle, line 466 ('keymap.all_axes : a                 # enable all axes')\n",
      "You probably need to get an updated matplotlibrc file from\n",
      "https://github.com/matplotlib/matplotlib/blob/v3.5.1/matplotlibrc.template\n",
      "or from the matplotlib source distribution\n",
      "\n",
      "Bad key animation.avconv_path in file /home/jakub/anaconda3/lib/python3.7/site-packages/matplotlib/mpl-data/stylelib/_classic_test.mplstyle, line 477 ('animation.avconv_path: avconv     # Path to avconv binary. Without full path')\n",
      "You probably need to get an updated matplotlibrc file from\n",
      "https://github.com/matplotlib/matplotlib/blob/v3.5.1/matplotlibrc.template\n",
      "or from the matplotlib source distribution\n",
      "\n",
      "Bad key animation.avconv_args in file /home/jakub/anaconda3/lib/python3.7/site-packages/matplotlib/mpl-data/stylelib/_classic_test.mplstyle, line 479 ('animation.avconv_args:            # Additional arguments to pass to avconv')\n",
      "You probably need to get an updated matplotlibrc file from\n",
      "https://github.com/matplotlib/matplotlib/blob/v3.5.1/matplotlibrc.template\n",
      "or from the matplotlib source distribution\n"
     ]
    }
   ],
   "source": [
    "import numpy as np\n",
    "import porepy as pp\n",
    "\n",
    "class BiotFractured(pp.ContactMechanicsBiot):\n",
    "\n",
    "    def create_grid(self) -> None:\n",
    "        # Define domain\n",
    "        self.box: Dict = pp.geometry.bounding_box.from_points(\n",
    "            np.array([[0, 1], [0, 1]])\n",
    "        )\n",
    "\n",
    "        # Define fracture network\n",
    "        # ... pts\n",
    "        frac_a = np.array([[1 / 2.0, 0.0], [1 / 2.0, 0.5]]).T\n",
    "        frac_b = np.array([[0.16, 0.2], [1, 0.5]]).T\n",
    "\n",
    "        intersecting_fractures = True\n",
    "\n",
    "        if intersecting_fractures:\n",
    "            frac_pts = np.hstack((frac_a, frac_b))\n",
    "            frac_connectivity = np.array([[0, 1], [2,3]]).T\n",
    "        else:\n",
    "            frac_pts = frac_a\n",
    "            frac_connectivity = np.array([[0], [1]])\n",
    "\n",
    "        # ... network\n",
    "        network_2d = pp.FractureNetwork2d(frac_pts, frac_connectivity, self.box)\n",
    "\n",
    "        # Generate mixed-dimensional mesh\n",
    "        mesh_size_frac = self.params.get(\"mesh_size_frac\", 1e-1)\n",
    "        mesh_size_bound = self.params.get(\"mesh_size_bound\", 1e-1)\n",
    "        mesh_args = {\n",
    "            \"mesh_size_frac\": mesh_size_frac,\n",
    "            \"mesh_size_bound\": mesh_size_bound\n",
    "        }\n",
    "        self.gb = network_2d.mesh(mesh_args)\n",
    "\n",
    "        pp.contact_conditions.set_projections(self.gb)\n",
    "\n",
    "params = {\"use_ad\": True}\n",
    "#model = pp.ContactMechanicsBiot(params)\n",
    "model = BiotFractured(params)\n",
    "model.prepare_simulation()\n"
   ]
  },
  {
   "cell_type": "markdown",
   "metadata": {},
   "source": [
    "The default data of the model is stored as pp.STATE in the grid bucket. Let's have a look:"
   ]
  },
  {
   "cell_type": "code",
   "execution_count": 3,
   "metadata": {},
   "outputs": [
    {
     "name": "stdout",
     "output_type": "stream",
     "text": [
      "Keys of the states defined on subdomains: {'p', 'u', 'contact_traction'}\n",
      "Keys of the states defined on interfaces: {'mortar_u', 'mortar_p'}\n"
     ]
    }
   ],
   "source": [
    "# Determine all keys of all states on all subdomains\n",
    "subdomain_states = []\n",
    "for g, d in model.gb.nodes():\n",
    "    subdomain_states += d[pp.STATE].keys()\n",
    "# The key pp.ITERATE is no actual state.\n",
    "subdomain_states = set(subdomain_states) - set([pp.ITERATE])\n",
    "print(\"Keys of the states defined on subdomains:\", subdomain_states)\n",
    "\n",
    "# Determine all keys of all states on all interfaces\n",
    "interface_states = []\n",
    "for g, d in model.gb.edges():\n",
    "    interface_states += d[pp.STATE].keys()\n",
    "# The key pp.ITERATE is no actual state.\n",
    "interface_states = set(interface_states) - set([pp.ITERATE])\n",
    "print(\"Keys of the states defined on interfaces:\", set(interface_states))   "
   ]
  },
  {
   "cell_type": "markdown",
   "metadata": {},
   "source": [
    "## Defining the exporter\n",
    "The definition of an object of type pp.Exporter, merely a grid bucket as well as a target is required for the output."
   ]
  },
  {
   "cell_type": "code",
   "execution_count": 4,
   "metadata": {},
   "outputs": [],
   "source": [
    "exporter = pp.Exporter(model.gb, file_name=\"file\", folder_name=\"folder\")"
   ]
  },
  {
   "cell_type": "markdown",
   "metadata": {},
   "source": [
    "In the following, we showcase how to use the main subroutines for exporting data:\n",
    "- write_vtu()\n",
    "- write_pvd()\n",
    "The first, addresses the export of data for a specific time step, while the latter, gather the previous exports and collects them in a single file. This allows an easier analysis in ParaView."
   ]
  },
  {
   "cell_type": "markdown",
   "metadata": {},
   "source": [
    "## Example 1: Exporting states\n",
    "Data stored in the grid bucket under 'pp.STATE' can be simply exported by addressing their keys using the routine 'write_vtu()'. We define a dedicated exporter for this task."
   ]
  },
  {
   "cell_type": "code",
   "execution_count": 5,
   "metadata": {},
   "outputs": [],
   "source": [
    "exporter_1 = pp.Exporter(model.gb, file_name=\"example-1\", folder_name=\"exporter-tutorial\")\n",
    "exporter_1.write_vtu([\"p\", \"u\", \"mortar_p\"])"
   ]
  },
  {
   "cell_type": "markdown",
   "metadata": {},
   "source": [
    "Note, that here all available representation (i.e., on all dimensions) of the states will be exported."
   ]
  },
  {
   "cell_type": "markdown",
   "metadata": {},
   "source": [
    "## Example 2: Exporting states on specified grids\n",
    "Similar to Example 1, we will again export states by addressing their keys, but target only a subset of grids. For instance, we fetch the grids for the subdomains and interface.\n",
    "\n",
    "NOTE: For now, one has to make sure that subsets of the mixed-dimensional grid contain all grids of a particular dimension."
   ]
  },
  {
   "cell_type": "code",
   "execution_count": 6,
   "metadata": {},
   "outputs": [],
   "source": [
    "grids_1d = model.gb.get_grids(lambda g: g.dim == 1).tolist()\n",
    "grids_2d = model.gb.get_grids(lambda g: g.dim == 2).tolist()\n",
    "edges_1d = [e for e, d in model.gb.edges() if d[\"mortar_grid\"].dim == 1]"
   ]
  },
  {
   "cell_type": "markdown",
   "metadata": {},
   "source": [
    "And as a simple example extract the 2D subdomain:"
   ]
  },
  {
   "cell_type": "code",
   "execution_count": 7,
   "metadata": {},
   "outputs": [],
   "source": [
    "g_2d = grids_2d[0]"
   ]
  },
  {
   "cell_type": "markdown",
   "metadata": {},
   "source": [
    "We export pressure on all 1D subdomains, displacements on a single 2D subdomain, and the mortars on all interfaces. For this, we use tuples of grid(s) and keys. In order to not overwrite the previous data, we define a new exporter."
   ]
  },
  {
   "cell_type": "code",
   "execution_count": 8,
   "metadata": {},
   "outputs": [],
   "source": [
    "exporter_2 = pp.Exporter(model.gb, \"example-2\", \"exporter-tutorial\")\n",
    "exporter_2.write_vtu([(grids_1d, \"p\"), (g_2d, \"u\"), (edges_1d, \"mortar_p\")])"
   ]
  },
  {
   "cell_type": "markdown",
   "metadata": {},
   "source": [
    "## Example 3: Exporting explicitly defined data\n",
    "There exists the possibility to export data which is not stored in the grid bucket under 'pp.STATE'. This capability requires defining tuples of (1) a single grid, (2) a key, and (3) the data vector. For example, let's export the cell centers of the 2D subdomain 'g_2d', as well as all interfaces. Again, we define a dedicated exporter for this task.\n"
   ]
  },
  {
   "cell_type": "code",
   "execution_count": 9,
   "metadata": {},
   "outputs": [],
   "source": [
    "subdomain_data = [(g_2d, \"cc\", g_2d.cell_centers)]\n",
    "interface_data = [\n",
    "    (edges_1d[i], \"cc_e\", model.gb.edge_props(edges_1d[i])[\"mortar_grid\"].cell_centers)\n",
    "    for i in range(len(edges_1d))\n",
    "]\n",
    "\n",
    "exporter_3 = pp.Exporter(model.gb, \"example-3\", \"exporter-tutorial\")\n",
    "exporter_3.write_vtu(subdomain_data + interface_data)"
   ]
  },
  {
   "cell_type": "markdown",
   "metadata": {},
   "source": [
    "## Example 4: Flexibility in the input arguments\n",
    "The export allows for an arbitrary combination of all previous ways to export data."
   ]
  },
  {
   "cell_type": "code",
   "execution_count": 10,
   "metadata": {},
   "outputs": [],
   "source": [
    "exporter_4 = pp.Exporter(model.gb, \"example-4\", \"exporter-tutorial\")\n",
    "exporter_4.write_vtu([(g_2d, \"cc\", g_2d.cell_centers), (grids_1d, \"p\"), \"u\"] + interface_data)"
   ]
  },
  {
   "cell_type": "markdown",
   "metadata": {},
   "source": [
    "## Example 5: Exporting data in a time series\n",
    "Data can also be exported in a time series, and the Exporter takes care of managing the file names. The user will only have to prescribe the time step number. Consider a time series consisting of 5 steps. For simplicity, we consider an analogous situation as in Example 1."
   ]
  },
  {
   "cell_type": "code",
   "execution_count": 11,
   "metadata": {},
   "outputs": [],
   "source": [
    "exporter_5 = pp.Exporter(model.gb, \"example-5\", \"exporter-tutorial\")\n",
    "for step in range(5):\n",
    "    # Data may change\n",
    "    exporter_5.write_vtu([\"p\", \"u\", \"mortar_p\"], time_step=step)"
   ]
  },
  {
   "cell_type": "markdown",
   "metadata": {},
   "source": [
    "## Example 6: Exporting constant data\n",
    "The export of both grid and geometry related data as well as heterogeneous material parameters may be of interest. However, these often do only change very seldomly in time or are even constant in time. In order to save storage space, constant data is stored separately. A multirate approach is used to address slowly changing \"constant\" data, which results in an extra set of output files. Everytime constant data has to be updated (in a time series), the output files are updated as well. "
   ]
  },
  {
   "cell_type": "code",
   "execution_count": 12,
   "metadata": {},
   "outputs": [],
   "source": [
    "exporter_6_a = pp.Exporter(model.gb, \"example-6-a\", \"exporter-tutorial\")\n",
    "# Define some 'constant' data\n",
    "exporter_6_a.add_constant_data([(g_2d, \"cc\", g_2d.cell_centers)])\n",
    "for step in range(5):\n",
    "    # Update the previously defined 'constant' data\n",
    "    if step == 2:\n",
    "        exporter_6_a.add_constant_data([(g_2d, \"cc\", -g_2d.cell_centers)])\n",
    "    # All constant data will be exported also if not specified\n",
    "    exporter_6_a.write_vtu([\"p\", \"u\", \"mortar_p\"], time_step=step)"
   ]
  },
  {
   "cell_type": "markdown",
   "metadata": {},
   "source": [
    "The default is that constant data is always printed to extra files. Since the vtu format requires geometrical and topoligical information on the mesh (points, connectivity etc.), this type of constant data is exported to each vtu file. Depending on the situation, this overhead can be in fact significant. Thus, one can also choose to print the constant data to the same files as the standard data, by setting a keyword when defining the exporter. With a similar setup as in part A, the same output is generated, but managed differently among files."
   ]
  },
  {
   "cell_type": "code",
   "execution_count": 13,
   "metadata": {},
   "outputs": [],
   "source": [
    "exporter_6_b = pp.Exporter(model.gb, \"example-6-b\", \"exporter-tutorial\", export_constants_separately = False)\n",
    "exporter_6_b.add_constant_data([(g_2d, \"cc\", g_2d.cell_centers)])\n",
    "for step in range(5):\n",
    "    # Update the previously defined 'constant' data\n",
    "    if step == 2:\n",
    "        exporter_6_b.add_constant_data([(g_2d, \"cc\", -g_2d.cell_centers)])\n",
    "    # All constant data will be exported also if not specified\n",
    "    exporter_6_b.write_vtu([\"p\", \"u\", \"mortar_p\"], time_step=step)"
   ]
  },
  {
   "cell_type": "markdown",
   "metadata": {},
   "source": [
    "## Example 5 revisisted: PVD format\n",
    "The pvd format collects previously exported data. At every application of 'write_vtu' a corresponding pvd file is generated, gather all 'vtu' files correpsonding to this time step. It is recommended to use the 'pvd' file for analyzing the data in ParaView.\n",
    "\n",
    "In addition, when considering a time series, it is possible to gather data connected to multiple time steps, and assign the actual time to each time step. Assume, Example 5 corresponds to an adaptive time stepping. We define the actual times, and write collect the exported data from Example 5 in a single pvd file."
   ]
  },
  {
   "cell_type": "code",
   "execution_count": 16,
   "metadata": {},
   "outputs": [],
   "source": [
    "times_5 = [0., 0.1, 1., 2., 10.]\n",
    "exporter_5.write_pvd(times_5)"
   ]
  },
  {
   "cell_type": "markdown",
   "metadata": {},
   "source": [
    "## Example 7: Exporting data on a single grid\n",
    "It is also possible to export data without prescribing a grid bucket, but a single grid. In this case, one has to assign the data when writing to vtu. For this, a key and a data array (with suitable size) has to be provided."
   ]
  },
  {
   "cell_type": "code",
   "execution_count": 17,
   "metadata": {},
   "outputs": [],
   "source": [
    "exporter_7 = pp.Exporter(g_2d, \"example-7\", \"exporter-tutorial\")\n",
    "exporter_7.write_vtu([(\"cc\", g_2d.cell_centers)])"
   ]
  }
 ],
 "metadata": {
  "kernelspec": {
   "display_name": "Python 3",
   "language": "python",
   "name": "python3"
  },
  "language_info": {
   "codemirror_mode": {
    "name": "ipython",
    "version": 3
   },
   "file_extension": ".py",
   "mimetype": "text/x-python",
   "name": "python",
   "nbconvert_exporter": "python",
   "pygments_lexer": "ipython3",
   "version": "3.7.4"
  }
 },
 "nbformat": 4,
 "nbformat_minor": 2
}
