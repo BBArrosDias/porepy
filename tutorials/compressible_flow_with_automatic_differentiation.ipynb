{
 "cells": [
  {
   "cell_type": "markdown",
   "metadata": {},
   "source": [
    "# Introduction\n",
    "This notebook gives suggests how to solve the problem of non-linear compressible flow using the automatic differentiation library included in PorePy. \n"
   ]
  },
  {
   "cell_type": "markdown",
   "metadata": {},
   "source": [
    "# Model\n",
    "As an example, we will set up a non-linear problem for compressible flow. As usuall, we assume Darcy's law is valid:\n",
    "$$\n",
    "\\vec u = -\\mathcal K \\nabla p,\n",
    "$$\n",
    "where $\\vec u$ is the flux, $\\mathcal K$ the permeability tensor and $p$ the fulid pressure. Further, the conservation of mass gives\n",
    "$$\n",
    "\\frac{\\partial \\phi \\rho}{\\partial t} + \\nabla \\cdot \\rho \\vec u = q,\\quad \\text{in}\\ \\Omega \\\\\n",
    "u\\cdot n = 0,\\quad \\text{on}\\ \\partial \\Omega\n",
    "$$\n",
    "for porosity $\\phi$, fluid density $\\rho$, and source/sink term $q$.\n",
    "\n",
    "To solve this system of equation we need a constitutive law relating the fluid density to the pressure:\n",
    "$$\n",
    "\\rho = \\rho_r e^{c(p - p_r)},\n",
    "$$\n",
    "for reference density $\\rho_r$ and pressure $p_r$."
   ]
  },
  {
   "cell_type": "markdown",
   "metadata": {},
   "source": [
    "## Import statements"
   ]
  },
  {
   "cell_type": "code",
   "execution_count": null,
   "metadata": {},
   "outputs": [],
   "source": [
    "import numpy as np\n",
    "import scipy.sparse as sps\n",
    "import matplotlib.pyplot as plt\n",
    "\n",
    "# Porepy modules\n",
    "import porepy as pp\n",
    "import porepy.ad as ad"
   ]
  },
  {
   "cell_type": "markdown",
   "metadata": {},
   "source": [
    "## Define constitutive laws and constants"
   ]
  },
  {
   "cell_type": "markdown",
   "metadata": {},
   "source": [
    "We set the porosity to 0.2 and let set the permeability to the default value (i.e. $\\mathcal K = 1$).\n",
    "We define the depenecy of $\\rho$ on $p$ as a function. Note that we have to use the exponent function ad.exp (and not np.exp)"
   ]
  },
  {
   "cell_type": "code",
   "execution_count": null,
   "metadata": {},
   "outputs": [],
   "source": [
    "# Define data\n",
    "dt = 0.2                           # Time step\n",
    "phi = 0.2                          # Porosity \n",
    "c = 1e-1                           # Compressibility\n",
    "\n",
    "# Constitutive law\n",
    "def rho(p):\n",
    "    rho0 = 1\n",
    "    p_ref = 1\n",
    "    return rho0 * ad.exp(c * (p - p_ref))"
   ]
  },
  {
   "cell_type": "markdown",
   "metadata": {},
   "source": [
    "## Discretization\n",
    "\n",
    "We use a finite-volume method to discretize the model equation. As a first step we create a partition of the domain into grid cells:\n",
    "\n"
   ]
  },
  {
   "cell_type": "code",
   "execution_count": null,
   "metadata": {},
   "outputs": [],
   "source": [
    "# Create grid\n",
    "g = pp.CartGrid([11,11])\n",
    "g.compute_geometry()\n",
    "pp.plot_grid(g, plot_2d=True)"
   ]
  },
  {
   "cell_type": "markdown",
   "metadata": {},
   "source": [
    "Next, the model equation is integrated over each controll volume (i.e., each cell of the grid), and the divergence theorem is applied to the flux term:\n",
    "$$\n",
    "\\int_\\Omega \\phi \\frac{\\partial \\rho}{\\partial t} dV - \\int_{\\partial\\Omega}\\vec n\\cdot(\\rho\\vec u)dS - \\int_\\Omega q dV= 0\n",
    "$$"
   ]
  },
  {
   "cell_type": "markdown",
   "metadata": {},
   "source": [
    "The key-point of the finite-volume discretization is how the flux-term $\\vec u$ is approximated. We do not cover that in this tutorial(see e.g., I. Aavatsmark. An introduction to multipoint flux approximations for quadrilateral grids. Comput. Geosci., Vol. 6, No. 3, pp. 405–432, 2002. DOI: 10.1023/A:1021291114475).\n",
    "However, the main idea is that the fluid flux $\\vec u$ across a face is expressed as a linear combination of the cell-centered pressures $\\vec u = \\text{flux}\\ \\vec p$. Here, $\\text{flux}$ is the discretization matrix and $\\vec p$ is the vector of all cell-centered pressures.\n",
    "\n",
    "In porepy we can obtain the discretization matrix with, e.g, the two-point flux approximation:\n"
   ]
  },
  {
   "cell_type": "code",
   "execution_count": null,
   "metadata": {},
   "outputs": [],
   "source": [
    "# Initialize default data (i.e., unit parameters)\n",
    "data = pp.initialize_default_data(g, {}, 'flow')\n",
    "# Define flux discretization:\n",
    "flx_disc = pp.Tpfa('flow')\n",
    "# Discretize\n",
    "flx_disc.discretize(g, data)\n",
    "# The flux discretization can now be found in the dictionary as:\n",
    "flux = data[pp.DISCRETIZATION_MATRICES]['flow']['flux']"
   ]
  },
  {
   "cell_type": "markdown",
   "metadata": {},
   "source": [
    "Note that the negative sign in front of the surface-integral is included into the flux discretization matrix.\n",
    "\n",
    "The density is defined at the cell centers, but in the flux term we need to evaluate it at the faces. To do so, we simply take the average of the two neighbooring cells (note that other alternatives, such as upstream weighting, are commonly used).\n",
    "\n",
    "We also create discretized versions of the divergence operator div. The discrete divergence operator sums the fluxes in and out of each grid cell."
   ]
  },
  {
   "cell_type": "code",
   "execution_count": null,
   "metadata": {},
   "outputs": [],
   "source": [
    "cell_faces_T = g.cell_faces.T\n",
    "def div(x):\n",
    "    \"\"\"\n",
    "    Discrete divergence\n",
    "    \"\"\"\n",
    "    return cell_faces_T * x\n",
    "\n",
    "def avg(x):\n",
    "    \"\"\"\n",
    "    Averageing. Note that this is not strictly correct for the boundary faces since\n",
    "    these only have 1 cell neighboor, but we have zero flux condition on these, so \n",
    "    this is not a problem.\n",
    "    \"\"\"\n",
    "    return 0.5 * np.abs(g.cell_faces) * x"
   ]
  },
  {
   "cell_type": "markdown",
   "metadata": {},
   "source": [
    "## Residual function\n",
    "To discretize the time-deriveative, we use backward Euler. Further, we assume that the densities are constant over each cell so we can take them out of the integral:\n",
    "$$\n",
    "\\int_\\Omega \\phi \\frac{\\rho^k - \\rho^{k-1}}{\\Delta t} dV =\\phi \\frac{\\rho^k - \\rho^{k-1}}{\\Delta t} \\int_\\Omega dV = \\phi \\frac{\\rho^k - \\rho^{k-1}}{\\Delta t}V.\n",
    "$$\n",
    "The same is also done for the source term.\n",
    "\n",
    "This gives us the residual\n",
    "$$\n",
    "\\phi \\frac{\\rho^k - \\rho^{k-1}}{\\Delta t} V + \\text{div}(\\text{avg}(\\rho^k)\\text{flux } p^k) - q^k V= 0\n",
    "$$"
   ]
  },
  {
   "cell_type": "code",
   "execution_count": null,
   "metadata": {},
   "outputs": [],
   "source": [
    "def f(p, p0):\n",
    "    # darcy:\n",
    "    u = flux * p\n",
    "\n",
    "    # Source:\n",
    "    src = np.zeros(g.num_cells)\n",
    "    src[60] = 1\n",
    "\n",
    "    # Define residual function\n",
    "    time = phi * (rho(p) - rho(p0)) / dt * g.cell_volumes\n",
    "    advection = div(avg(rho(p)) * u)\n",
    "    lhs = time + advection\n",
    "    rhs = src * g.cell_volumes\n",
    "\n",
    "    return lhs - rhs"
   ]
  },
  {
   "cell_type": "markdown",
   "metadata": {},
   "source": [
    "## Initialize Ad variable\n",
    "To initialize an AD variable create an Ad_array(...) with values equal the initial value and jacobian equal the identity matrix"
   ]
  },
  {
   "cell_type": "code",
   "execution_count": null,
   "metadata": {},
   "outputs": [],
   "source": [
    "# Set initial condition\n",
    "p0 = np.zeros(g.num_cells)\n",
    "p = ad.Ad_array(p0, sps.diags(np.ones(p0.shape)))\n",
    "\n"
   ]
  },
  {
   "cell_type": "markdown",
   "metadata": {},
   "source": [
    "## Time loop\n",
    "We are now ready to set up the time loop. We will set up a simple Newton iteration to find the zero of the residual function."
   ]
  },
  {
   "cell_type": "code",
   "execution_count": null,
   "metadata": {},
   "outputs": [],
   "source": [
    "# define iteration parameters\n",
    "newton_tol = 1e-6\n",
    "t = .0\n",
    "T = 1\n",
    "k = 0\n",
    "times = [t]\n",
    "\n",
    "# Time loop\n",
    "while t < T:\n",
    "    # Increment time\n",
    "    t += dt\n",
    "    k += 1\n",
    "    times.append(t)\n",
    "    p0 = p.val\n",
    "    print('Solving time step: ', k)\n",
    "    # solve newton iteration\n",
    "    err = np.inf\n",
    "    while err > newton_tol:\n",
    "        eq = f(p, p0)   \n",
    "        p = p - sps.linalg.spsolve(eq.jac, eq.val)\n",
    "        err = np.sqrt(np.sum(eq.val**2))\n",
    "    pp.plot_grid(g, p.val,color_map = [0, 1])"
   ]
  }
 ],
 "metadata": {
  "kernelspec": {
   "display_name": "Python 3",
   "language": "python",
   "name": "python3"
  },
  "language_info": {
   "codemirror_mode": {
    "name": "ipython",
    "version": 3
   },
   "file_extension": ".py",
   "mimetype": "text/x-python",
   "name": "python",
   "nbconvert_exporter": "python",
   "pygments_lexer": "ipython3",
   "version": "3.6.3"
  }
 },
 "nbformat": 4,
 "nbformat_minor": 2
}
