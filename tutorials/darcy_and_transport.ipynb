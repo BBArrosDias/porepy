{
 "cells": [
  {
   "cell_type": "markdown",
   "metadata": {},
   "source": [
    "Define the geometry of the problem, we assume that the domain is a rectangle. \n",
    "Everything marked with a `[*]` can be modified by user needs."
   ]
  },
  {
   "cell_type": "code",
   "execution_count": 14,
   "metadata": {},
   "outputs": [
    {
     "name": "stdout",
     "output_type": "stream",
     "text": [
      "Gmsh processed file successfully\n",
      "\n",
      "\n",
      "Grid creation completed. Elapsed time 0.030400514602661133\n",
      "\n",
      "\n",
      "Created 1 2-d grids with 1120 cells\n",
      "Created 6 1-d grids with 76 cells\n",
      "Created 9 0-d grids with 9 cells\n",
      "\n",
      "\n"
     ]
    }
   ],
   "source": [
    "from porepy.fracs import importer\n",
    "\n",
    "#[*] path for the fracture network file name\n",
    "fracture_file_name = 'network.csv'\n",
    "\n",
    "#[*] activate to export solution in vtu format (for ParaView)\n",
    "save_solution = True\n",
    "\n",
    "#[*] define the mesh size of the problem\n",
    "mesh_size = 0.05\n",
    "\n",
    "# geometrical tolerance for the computation\n",
    "tol = 1e-7\n",
    "\n",
    "# pack the data for the grid generation\n",
    "mesh_kwargs = {'tol': tol}\n",
    "mesh_kwargs['mesh_size'] = {'mode': 'weighted', 'value': mesh_size, 'bound_value': mesh_size}\n",
    "\n",
    "# import the fractures and create the grid\n",
    "gb = importer.dfm_2d_from_csv(fracture_file_name, mesh_kwargs)\n",
    "gb.compute_geometry()\n",
    "gb.assign_node_ordering()\n",
    "\n",
    "# define the computational domain (useful for boundary conditions)\n",
    "# by default takes the bounding box of the fracture network\n",
    "domain = gb.bounding_box(as_dict=True)\n",
    "\n",
    "if save_solution:\n",
    "    from porepy.viz import exporter\n",
    "\n",
    "    save = exporter.Exporter(gb, 'grid', 'grid')\n",
    "    save.write_vtk()"
   ]
  },
  {
   "cell_type": "markdown",
   "metadata": {},
   "source": [
    "Define the physical data for a single-phase incompressible flow model."
   ]
  },
  {
   "cell_type": "code",
   "execution_count": 13,
   "metadata": {},
   "outputs": [],
   "source": [
    "#[*] define the fracture and rock matrix permeability, unit [m^2]\n",
    "fracture_permeability = 1e4\n",
    "rock_matrix_permeability = 1\n",
    "\n",
    "# consistency check for permeability\n",
    "assert fracture_permeability > 0 and rock_matrix_permeability > 0\n",
    "\n",
    "#[*] define the fracture aperture, unit [m]\n",
    "fracture_aperture = 1e-4\n",
    "\n",
    "# consistency check for fracture aperture\n",
    "assert fracture_aperture > 0\n",
    "\n",
    "#[*] define the pressure boundary conditions, unit [Pa] \n",
    "# use key 'left', 'right', 'top', 'bottom' to define which portion of the boundary\n",
    "# NOTE: use 'left' and 'right' or 'top' and 'bottom'\n",
    "pressure_boundary = {}\n",
    "pressure_boundary['left'] = 0\n",
    "pressure_boundary['right'] = 1\n",
    "\n",
    "# consistency check for boundary condition\n",
    "assert len(pressure_boundary) == 2 and \\\n",
    "       ('left' in pressure_boundary and 'right' in pressure_boundary) or \\\n",
    "       ('top' in pressure_boundary and 'bottom' in pressure_boundary)\n",
    "\n",
    "# pack the problem data in a single dictionary\n",
    "data_problem = {'domain': domain, 'tol': tol, 'pressure_boundary': pressure_boundary,\n",
    "                'kf': fracture_permeability, 'km': rock_matrix_permeability,\n",
    "                'aperture': fracture_aperture}\n"
   ]
  },
  {
   "cell_type": "markdown",
   "metadata": {},
   "source": [
    "Run single-phase flow model"
   ]
  },
  {
   "cell_type": "code",
   "execution_count": null,
   "metadata": {},
   "outputs": [],
   "source": [
    "from porepy.numerics import darcy_and_transport"
   ]
  },
  {
   "cell_type": "markdown",
   "metadata": {},
   "source": [
    "Define the data for a transport model, the flux field is given by the previous model"
   ]
  },
  {
   "cell_type": "code",
   "execution_count": null,
   "metadata": {},
   "outputs": [],
   "source": []
  },
  {
   "cell_type": "markdown",
   "metadata": {},
   "source": [
    "Run transport flow-model"
   ]
  },
  {
   "cell_type": "code",
   "execution_count": null,
   "metadata": {},
   "outputs": [],
   "source": []
  },
  {
   "cell_type": "markdown",
   "metadata": {},
   "source": [
    "Compute production"
   ]
  },
  {
   "cell_type": "code",
   "execution_count": null,
   "metadata": {},
   "outputs": [],
   "source": []
  }
 ],
 "metadata": {
  "kernelspec": {
   "display_name": "Python 3",
   "language": "python",
   "name": "python3"
  },
  "language_info": {
   "codemirror_mode": {
    "name": "ipython",
    "version": 3
   },
   "file_extension": ".py",
   "mimetype": "text/x-python",
   "name": "python",
   "nbconvert_exporter": "python",
   "pygments_lexer": "ipython3",
   "version": "3.6.4"
  }
 },
 "nbformat": 4,
 "nbformat_minor": 2
}
