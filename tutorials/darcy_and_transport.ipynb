{
 "cells": [
  {
   "cell_type": "markdown",
   "metadata": {},
   "source": [
    "Define the geometry of the problem, we assume that the domain is a rectangle. \n",
    "Everything marked with a `[*]` can be modified by user needs."
   ]
  },
  {
   "cell_type": "code",
   "execution_count": 1,
   "metadata": {},
   "outputs": [],
   "source": [
    "import numpy as np\n",
    "from porepy.fracs import importer\n",
    "from porepy.params.units import *\n",
    "\n",
    "#[*] path for the fracture network file name\n",
    "fracture_file_name = 'network.csv'\n",
    "\n",
    "#[*] folder to store the simulation results\n",
    "folder_name = 'results'\n",
    "\n",
    "#[*] activate to export solution in vtu format (for ParaView)\n",
    "save_solution = True\n",
    "\n",
    "#[*] define the mesh size of the problem\n",
    "mesh_size = 400 * METER\n",
    "\n",
    "#[*] define the fracture and rock matrix permeability, unit [m^2 or Darcy]\n",
    "fracture_permeability = 1e3 * DARCY\n",
    "rock_matrix_permeability = 1e-2 * DARCY\n",
    "\n",
    "#[*] define the fracture aperture, unit [m]\n",
    "fracture_aperture = CENTIMETER\n",
    "\n",
    "#[*] end time for the simulation [s]\n",
    "end_time = 10 * YEAR\n",
    "\n",
    "#[*] number of time steps\n",
    "number_time_steps = 10\n",
    "\n",
    "#[*] define the pressure boundary conditions, unit [Pa or bar] \n",
    "# use key 'left', 'right', 'top', 'bottom' to define which portion of the boundary\n",
    "# NOTE: use 'left' and 'right' or 'top' and 'bottom'\n",
    "dirichlet_boundary = {}\n",
    "dirichlet_boundary['left'] = 1e2 * BAR\n",
    "dirichlet_boundary['right'] = 0 * BAR"
   ]
  },
  {
   "cell_type": "markdown",
   "metadata": {},
   "source": [
    "Run single-phase flow and transport models."
   ]
  },
  {
   "cell_type": "code",
   "execution_count": 2,
   "metadata": {
    "deletable": false,
    "editable": false,
    "scrolled": false
   },
   "outputs": [
    {
     "name": "stdout",
     "output_type": "stream",
     "text": [
      "Gmsh processed file successfully\n",
      "\n",
      "\n",
      "Grid creation completed. Elapsed time 0.630131721496582\n",
      "\n",
      "\n",
      "Created 1 2-d grids with 12530 cells\n",
      "Created 63 1-d grids with 1317 cells\n",
      "Created 85 0-d grids with 85 cells\n",
      "\n",
      "\n"
     ]
    },
    {
     "name": "stderr",
     "output_type": "stream",
     "text": [
      "Solve elliptic model\n",
      "Discretize\n",
      "Done. Elapsed time 5.3368916511535645\n",
      "Solve linear system using direct solver\n",
      "Done. Elapsed time 0.05234217643737793\n",
      "Time stepping using 10 steps\n",
      "Step 0 out of 10\n",
      "Step 1 out of 10\n",
      "Step 2 out of 10\n",
      "Step 3 out of 10\n",
      "Step 4 out of 10\n",
      "Step 5 out of 10\n",
      "Step 6 out of 10\n",
      "Step 7 out of 10\n",
      "Step 8 out of 10\n",
      "Step 9 out of 10\n"
     ]
    }
   ],
   "source": [
    "from darcy_and_transport_data import Simulation\n",
    "\n",
    "# consistency check for permeability\n",
    "assert fracture_permeability > 0 and rock_matrix_permeability > 0\n",
    "\n",
    "# consistency check for fracture aperture\n",
    "assert fracture_aperture > 0\n",
    "\n",
    "# geometrical tolerance for the computations\n",
    "tol = 1e-7\n",
    "\n",
    "# pack the data for the grid generation\n",
    "mesh_kwargs = {'tol': tol}\n",
    "mesh_kwargs['mesh_size'] = {'mode': 'weighted', 'value': mesh_size, 'bound_value': mesh_size}\n",
    "\n",
    "# import the fractures and create the grid\n",
    "gb = importer.dfm_2d_from_csv(fracture_file_name, mesh_kwargs)\n",
    "gb.compute_geometry()\n",
    "gb.assign_node_ordering()\n",
    "\n",
    "# define the computational domain (useful for boundary conditions)\n",
    "# by default takes the bounding box of the fracture network\n",
    "domain = gb.bounding_box(as_dict=True)\n",
    "\n",
    "# pack the problem data in a single dictionary\n",
    "data_problem = {'domain': domain, 'tol': tol, 'dirichlet_boundary': dirichlet_boundary,\n",
    "                'kf': fracture_permeability, 'km': rock_matrix_permeability,\n",
    "                'aperture': fracture_aperture, \n",
    "                'end_time': end_time, 'number_time_steps': number_time_steps,\n",
    "                'folder_name': folder_name}\n",
    "\n",
    "# run the simulation and save the solution\n",
    "simulation = Simulation(gb, data_problem)\n",
    "simulation.solve(save_as=\"c\")"
   ]
  },
  {
   "cell_type": "markdown",
   "metadata": {},
   "source": [
    "Compute production altre cose? outflow"
   ]
  },
  {
   "cell_type": "code",
   "execution_count": 6,
   "metadata": {},
   "outputs": [
    {
     "name": "stdout",
     "output_type": "stream",
     "text": [
      "Outflow  1.81263113789e-07\n"
     ]
    }
   ],
   "source": [
    "from darcy_and_transport_data import compute_outflow\n",
    "\n",
    "outflow = compute_outflow(gb)\n",
    "print(\"Outflow \", outflow)"
   ]
  }
 ],
 "metadata": {
  "celltoolbar": "Edit Metadata",
  "kernelspec": {
   "display_name": "Python 3",
   "language": "python",
   "name": "python3"
  },
  "language_info": {
   "codemirror_mode": {
    "name": "ipython",
    "version": 3
   },
   "file_extension": ".py",
   "mimetype": "text/x-python",
   "name": "python",
   "nbconvert_exporter": "python",
   "pygments_lexer": "ipython3",
   "version": "3.6.4"
  }
 },
 "nbformat": 4,
 "nbformat_minor": 2
}
