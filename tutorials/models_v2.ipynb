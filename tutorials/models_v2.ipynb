{
 "cells": [
  {
   "cell_type": "markdown",
   "metadata": {},
   "source": [
    "# Simulation Models\n",
    "This notebook explains how a simulation may be set up combining several types of classes into a \"Model\". We first sketch the high-level concepts and structure, before demonstrating basic usage, i.e., adjusting existing models to specific applications. Then, we turn to more advanced usage such as development of new models and more fundamental adjustment of existing ones.\n",
    "## Structure and concepts\n",
    "The essential parts needed to set up a simulation are the following class types:\n",
    "\n",
    "* Equations\n",
    "* Constitutive laws\n",
    "* Variables\n",
    "* Boundary conditions\n",
    "* Solution strategy\n",
    "\n",
    "The first four define the problem, whereas the last one specifies how to solve it. Additionally, values for constant material parameters are provided as `MaterialConstant` classes and visualization is sorted using DataSavingMixin."
   ]
  },
  {
   "cell_type": "code",
   "execution_count": null,
   "metadata": {},
   "outputs": [],
   "source": []
  },
  {
   "cell_type": "markdown",
   "metadata": {},
   "source": []
  }
 ],
 "metadata": {
  "kernelspec": {
   "display_name": "Python 3.10.6 ('condapp')",
   "language": "python",
   "name": "python3"
  },
  "language_info": {
   "name": "python",
   "version": "3.10.6"
  },
  "orig_nbformat": 4,
  "vscode": {
   "interpreter": {
    "hash": "ffc5b0a7f9c7db892dae2ef51b4b23072576b4ba6e83a9602165851401d5c9eb"
   }
  }
 },
 "nbformat": 4,
 "nbformat_minor": 2
}
