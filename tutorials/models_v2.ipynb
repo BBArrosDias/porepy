{
 "cells": [
  {
   "cell_type": "markdown",
   "metadata": {},
   "source": [
    "# Simulation Models\n",
    "The essential parts needed to set up a simulation are the following class types:\n",
    "\n",
    "* Equations\n",
    "* Constitutive laws\n",
    "* Variables\n",
    "* Solution strategy\n",
    "\n",
    "The first three define the problem, whereas the last one specifies how to solve it. Additionally, values for constant material parameter are provided as `Material` classes and visualization is sorted using DataSavingMixin."
   ]
  },
  {
   "cell_type": "code",
   "execution_count": null,
   "metadata": {},
   "outputs": [],
   "source": []
  },
  {
   "cell_type": "markdown",
   "metadata": {},
   "source": []
  }
 ],
 "metadata": {
  "kernelspec": {
   "display_name": "Python 3.10.6 ('condapp')",
   "language": "python",
   "name": "python3"
  },
  "language_info": {
   "name": "python",
   "version": "3.10.6"
  },
  "orig_nbformat": 4,
  "vscode": {
   "interpreter": {
    "hash": "ffc5b0a7f9c7db892dae2ef51b4b23072576b4ba6e83a9602165851401d5c9eb"
   }
  }
 },
 "nbformat": 4,
 "nbformat_minor": 2
}
