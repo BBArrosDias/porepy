{
 "cells": [
  {
   "cell_type": "markdown",
   "id": "7336db6e",
   "metadata": {},
   "source": [
    "# Advanced AD application\n",
    "This notebook documents how the automatic (or algorithmic) differentiation framework may be applied to non-smooth equations. For an introduction to the framework, see the [automatic differentiation](./automatic_differentiation.ipynb) notebook.\n",
    "\n",
    "The equations in question are the normal and tangential complementary equations for contact mechanics:\n",
    "\n",
    "\\begin{equation}\n",
    "\\begin{aligned}\n",
    "C_n &= \\lambda_n + \\text{max}(0, -\\lambda_n-c_n([[u]]_n-g)) = 0\\\\\n",
    "C_{\\tau} &= \\text{max}(0, b) (\\lambda_{\\tau}+c_{\\tau}[[\\dot{u}]]_{\\tau})\n",
    "- \\text{max}(b, ||\\lambda_{\\tau}+c_{\\tau}[[\\dot{u}]]_{\\tau}||)\\lambda_{\\tau} = 0,\n",
    "\\end{aligned}\n",
    "\\end{equation}\n",
    "\n",
    "with $b=-F(\\lambda_n+c_n([[u]]_n-g))$ and F, c, and $g$ denoting friction coefficient, numerical constants and the gap function, respectively. See [Hüeber 2008](https://elib.uni-stuttgart.de/handle/11682/4854) for a detailed derivation and discussion and [Stefansson et al. 2021](https://www.sciencedirect.com/science/article/pii/S0045782521004539) for notation.\n",
    "\n",
    "Note that the first equation is a nonpenetration condition for the two sides of a fracture, while the second equation imposes the Coulomb friction law for the fractures in contact. The functions $C_n$ and $C_{\\tau}$ are not differentiable everywhere, due to the presence of maximum and norm functions. The max-functions reflect the fact that different equations should be fulfilled depending on the state of a fracture cell, i.e., whether it is open or closed, and if it is closed, whether it is sticking or gliding. \n",
    "\n",
    "## Implementation\n",
    "The implementation is found within the `MomentumBalance` class. After defining subdomain and interface ad variables, `set_equations` calls the methods `tangential_fracture_deformation_equation` and `normal_fracture_deformation_equation` which compose the equations from subcomponents defined in other methods:"
   ]
  },
  {
   "cell_type": "code",
   "execution_count": 5,
   "id": "4d5d76f4",
   "metadata": {},
   "outputs": [
    {
     "name": "stdout",
     "output_type": "stream",
     "text": [
      "    def set_equations(self) -> None:\n",
      "        \"\"\"Set equations for the subdomains and interfaces.\n",
      "\n",
      "        The following equations are set:\n",
      "            - Momentum balance in the matrix.\n",
      "            - Force balance between fracture interfaces.\n",
      "            - Deformation constraints for fractures, split into normal and tangential\n",
      "              part.\n",
      "\n",
      "        See individual equation methods for details.\n",
      "\n",
      "        \"\"\"\n",
      "        matrix_subdomains = self.mdg.subdomains(dim=self.nd)\n",
      "        fracture_subdomains = self.mdg.subdomains(dim=self.nd - 1)\n",
      "        interfaces = self.mdg.interfaces(dim=self.nd - 1, codim=1)\n",
      "        matrix_eq = self.momentum_balance_equation(matrix_subdomains)\n",
      "        # We split the fracture deformation equations into two parts, for the normal and\n",
      "        # tangential components for convenience.\n",
      "        fracture_eq_normal = self.normal_fracture_deformation_equation(\n",
      "            fracture_subdomains\n",
      "        )\n",
      "        fracture_eq_tangential = self.tangential_fracture_deformation_equation(\n",
      "            fracture_subdomains\n",
      "        )\n",
      "        intf_eq = self.interface_force_balance_equation(interfaces)\n",
      "        self.equation_system.set_equation(\n",
      "            matrix_eq, matrix_subdomains, {\"cells\": self.nd}\n",
      "        )\n",
      "        self.equation_system.set_equation(\n",
      "            fracture_eq_normal, fracture_subdomains, {\"cells\": 1}\n",
      "        )\n",
      "        self.equation_system.set_equation(\n",
      "            fracture_eq_tangential, fracture_subdomains, {\"cells\": self.nd - 1}\n",
      "        )\n",
      "        self.equation_system.set_equation(intf_eq, interfaces, {\"cells\": self.nd})\n",
      "\n"
     ]
    }
   ],
   "source": [
    "import porepy as pp\n",
    "import numpy as np\n",
    "import inspect\n",
    "\n",
    "model = pp.momentum_balance.MomentumBalance({})\n",
    "print(inspect.getsource(model.set_equations)) "
   ]
  },
  {
   "cell_type": "markdown",
   "id": "6e9d430a",
   "metadata": {},
   "source": [
    "The simpler of the equations is defined as follows:"
   ]
  },
  {
   "cell_type": "code",
   "execution_count": 6,
   "id": "fc0a52a5",
   "metadata": {},
   "outputs": [
    {
     "name": "stdout",
     "output_type": "stream",
     "text": [
      "    def normal_fracture_deformation_equation(\n",
      "        self, subdomains: list[pp.Grid]\n",
      "    ) -> pp.ad.Operator:\n",
      "        \"\"\"Equation for the normal component of the fracture deformation.\n",
      "\n",
      "        This constraint equation enforces non-penetration of opposing fracture\n",
      "        interfaces.\n",
      "\n",
      "        Parameters:\n",
      "            subdomains: List of subdomains where the normal deformation equation is\n",
      "            defined.\n",
      "\n",
      "        Returns:\n",
      "            Operator for the normal deformation equation.\n",
      "\n",
      "        \"\"\"\n",
      "        # The lines below is an implementation of equations (24) and (26) in the paper\n",
      "        #\n",
      "        # Berge et al. (2020): Finite volume discretization for poroelastic media with\n",
      "        #   fractures modeled by contact mechanics (IJNME, DOI: 10.1002/nme.6238). The\n",
      "        #\n",
      "        # Note that:\n",
      "        #  - We do not directly implement the matrix elements of the contact traction\n",
      "        #    as are derived by Berge in their equations (28)-(32). Instead, we directly\n",
      "        #    implement the complimentarity function, and let the AD framework take care\n",
      "        #    of the derivatives.\n",
      "        #  - Related to the previous point, we do not implement the regularization that\n",
      "        #    is discussed in Section 3.2.1 of the paper.\n",
      "\n",
      "        # Variables\n",
      "        nd_vec_to_normal = self.normal_component(subdomains)\n",
      "        # The normal component of the contact traction and the displacement jump\n",
      "        t_n: pp.ad.Operator = nd_vec_to_normal @ self.contact_traction(subdomains)\n",
      "        u_n: pp.ad.Operator = nd_vec_to_normal @ self.displacement_jump(subdomains)\n",
      "\n",
      "        # Maximum function\n",
      "        num_cells: int = sum([sd.num_cells for sd in subdomains])\n",
      "        max_function = pp.ad.Function(pp.ad.maximum, \"max_function\")\n",
      "        zeros_frac = pp.ad.DenseArray(np.zeros(num_cells), \"zeros_frac\")\n",
      "\n",
      "        # The complimentarity condition\n",
      "        equation: pp.ad.Operator = t_n + max_function(\n",
      "            pp.ad.Scalar(-1.0) * t_n\n",
      "            - self.contact_mechanics_numerical_constant(subdomains)\n",
      "            * (u_n - self.fracture_gap(subdomains)),\n",
      "            zeros_frac,\n",
      "        )\n",
      "        equation.set_name(\"normal_fracture_deformation_equation\")\n",
      "        return equation\n",
      "\n"
     ]
    }
   ],
   "source": [
    "print(inspect.getsource(model.normal_fracture_deformation_equation))"
   ]
  },
  {
   "cell_type": "markdown",
   "id": "edb2ac14",
   "metadata": {},
   "source": [
    "## Non-smooth functions using pp.ad.Function\n",
    "Handling non-smoothness in the AD setting requires the definition of generalized derivatives by assigning appropriate values to the Jacobi matrices for the non-smooth function components ($\\text{max}$ and $\\text{abs}$) at the points in question. While this may seem somewhat technical, it is a modest price to pay for handling these equations otherwise straightforwardly using AD. We define standard Python functions and wrap them in `pp.ad.Function` returning `pp.ad.AdArray`s having a val and a jac attribute.\n",
    "(Maybe some details about generalized derivatives).\n",
    "\n",
    "As an example, let us see how the absolute value function is defined in PorePy:"
   ]
  },
  {
   "cell_type": "code",
   "execution_count": 7,
   "id": "f87efb7a",
   "metadata": {},
   "outputs": [
    {
     "name": "stdout",
     "output_type": "stream",
     "text": [
      "def abs(var):\n",
      "    if isinstance(var, AdArray):\n",
      "        val = np.abs(var.val)\n",
      "        jac = var._diagvec_mul_jac(sign(var))\n",
      "        return AdArray(val, jac)\n",
      "    else:\n",
      "        return np.abs(var)\n",
      "\n"
     ]
    }
   ],
   "source": [
    "print(inspect.getsource(pp.ad.functions.abs)) "
   ]
  },
  {
   "cell_type": "markdown",
   "id": "ba94ab25",
   "metadata": {},
   "source": [
    "We see that the derivative of the absolute value function is declared to be the sign function, which in NumPy is defined as follows:\n",
    "\n",
    "\\begin{equation}\n",
    "\\text{sign}(x) = \\begin{cases}\n",
    "-1 \\ \\ , \\ \\ x<0 \\\\\n",
    "0 \\ \\ \\ \\ \\  , \\ \\ x=0 \\\\\n",
    "1 \\ \\ \\ \\ \\  , \\ \\ x>0\n",
    "\\end{cases}\n",
    "\\end{equation}\n",
    "\n",
    "This is a generalized derivative; the ordinary derivative of the absolute value function does not exist for $x=0$, but here we have defined the (generalized) derivative to be zero at that point. Note that apart from the origin, the generalized derivative and the ordinary derivative coincide. Other non-smooth functions are assigned generalized derivatives in a similar manner.\n",
    "\n",
    "<b>Technical note:</b> The generalized Jacobian at a non-differentiable point is defined according to the convex hull of ordinary Jacobians at nearby points. For more information, consult [Clarke 1990](https://epubs.siam.org/doi/book/10.1137/1.9781611971309).\n",
    "\n",
    "The non-smooth equations $C_n=0, C_{\\tau}=0$ are then solved by the usual Newton scheme, but where the generalized Jacobian is used in place of the ordinary Jacobian. The resulting algorithm is called the <em>semi-smooth Newton method</em>, which is locally convergent under certain conditions ([Qi & Sun 1993](https://link.springer.com/article/10.1007/BF01581275))."
   ]
  },
  {
   "cell_type": "markdown",
   "id": "0d9e56b7",
   "metadata": {},
   "source": [
    "## Technical notes on Function wrapping\n",
    "### Argument types\n",
    "The wrapping of a function in the pp.ad.Function class may be slightly confusing in that the function (e.g. `pp.ad.functions.max`) takes an `AdArray` as its argument, whereas the Function instance (e.g. `MaxAd` above) expects an `Operator`, which represents an ad variable or compound expression. The explanation lies in how the Function is *parsed* (\"evaluated\"), which involves the `MaxAd` asking its `_function` to operate on the values and jacobians of `var0` and `var1`, which are represented through an `AdArray`. Puh!\n",
    "\n",
    "### Chain rule\n",
    "An ad `Funtion` is parsed as follows by `pp.ad.Operator._parse_operator`:\n",
    "```\n",
    "elif tree.op == Operation.evaluate:\n",
    "    # This is a function, which should have at least one argument\n",
    "    assert len(results) > 1\n",
    "    return results[0].func(*results[1:])\n",
    "```\n",
    "That is, it calls the wrapped function on the ad array produced by parsing of the function argument(s). This means that the chain rule should be applied internally in the function. For a generic funtion `f` of a single variable `var` with derivative `f_prime` with respect to `var`, we have\n",
    "```\n",
    "def function_to_be_wrapped(var: pp.ad.AdArray) -> pp.ad.AdArray:\n",
    "    var = f(var)\n",
    "    df_dvar = f_prime(var)\n",
    "    # Chain rule:\n",
    "    jac = var.diagvec_mul_jac(df_dvar)\n",
    "    return  pp.ad.AdArray(var, jac)\n",
    "```"
   ]
  },
  {
   "cell_type": "markdown",
   "id": "c4b16d5c",
   "metadata": {},
   "source": [
    "### Partial functions\n",
    "Some functions depend on arguments which do not have anything to do with ad. Instead of having to wrap such arguments in AD objects to be evaluated as part of parsing of the Function, one can exploit partial evaluation. For instance, the `pp.ad.functions.l2_norm` function for cell-wise vectors has been implemented for an arbitrary number of vector components. It is applied in the definition of the gap, which depends on the norm of tangential displacement jumps. The number of tangential components equals the dimension of the fracture, i.e. $nd - 1$:"
   ]
  },
  {
   "cell_type": "code",
   "execution_count": 4,
   "id": "183e23c5",
   "metadata": {},
   "outputs": [
    {
     "name": "stdout",
     "output_type": "stream",
     "text": [
      "    def fracture_gap(self, subdomains: list[pp.Grid]) -> pp.ad.Operator:\n",
      "        \"\"\"Fracture gap [m].\n",
      "\n",
      "        Parameters:\n",
      "            subdomains: List of subdomains where the gap is defined.\n",
      "\n",
      "        Returns:\n",
      "            Cell-wise fracture gap operator.\n",
      "\n",
      "        \"\"\"\n",
      "        angle: pp.ad.Operator = self.dilation_angle(subdomains)\n",
      "        f_norm = pp.ad.Function(\n",
      "            partial(pp.ad.functions.l2_norm, self.nd - 1), \"norm_function\"\n",
      "        )\n",
      "        f_tan = pp.ad.Function(pp.ad.functions.tan, \"tan_function\")\n",
      "        shear_dilation: pp.ad.Operator = f_tan(angle) * f_norm(\n",
      "            self.tangential_component(subdomains) @ self.displacement_jump(subdomains)\n",
      "        )\n",
      "\n",
      "        gap = self.reference_fracture_gap(subdomains) + shear_dilation\n",
      "        gap.set_name(\"fracture_gap_with_shear_dilation\")\n",
      "        return gap\n",
      "\n"
     ]
    }
   ],
   "source": [
    "print(inspect.getsource(model.fracture_gap))"
   ]
  },
  {
   "cell_type": "markdown",
   "id": "4d398773",
   "metadata": {},
   "source": [
    "# What have we explored\n",
    "We have seen how the Ad framework can be used to specify non-linear functions, including ones that are sub-differentiable but not fully differentiable (e.g., the maximum function), and reviewed this in the context of contact mechancis. The model classes implement the functions and constitutive relations most relevant for standard applications of PorePy. New Ad functions can easily be implemented by wrapping standard python functions using `pp.ad.Function`."
   ]
  }
 ],
 "metadata": {
  "kernelspec": {
   "display_name": "Python 3 (ipykernel)",
   "language": "python",
   "name": "python3"
  },
  "language_info": {
   "codemirror_mode": {
    "name": "ipython",
    "version": 3
   },
   "file_extension": ".py",
   "mimetype": "text/x-python",
   "name": "python",
   "nbconvert_exporter": "python",
   "pygments_lexer": "ipython3",
   "version": "3.10.8"
  },
  "vscode": {
   "interpreter": {
    "hash": "ffc5b0a7f9c7db892dae2ef51b4b23072576b4ba6e83a9602165851401d5c9eb"
   }
  }
 },
 "nbformat": 4,
 "nbformat_minor": 5
}
