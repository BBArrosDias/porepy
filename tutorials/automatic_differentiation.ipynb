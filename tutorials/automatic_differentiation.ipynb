{
 "cells": [
  {
   "cell_type": "markdown",
   "metadata": {},
   "source": [
    "# Introduction\n",
    "A key feature of PorePy is that algorithmic (or automatic) differentiation, AD, is used to translate  partial differential equations into a system of linear equations.\n",
    "This tutorial provides a short introduction to algorithmic differentiation and an overview of the AD-module included in PorePy. \n",
    "\n",
    "Further description is provided in other tutorials: *pdes with ad*  explains how to use the module to solve (mixed-dimensional) PDEs. For an example where the AD module has been used to solve non-linear compressible flow, see the tutorial:  \"compressible_flow_with_automatic_differentiation\"\n"
   ]
  },
  {
   "cell_type": "code",
   "execution_count": 3,
   "metadata": {},
   "outputs": [],
   "source": [
    "import numpy as np\n",
    "import scipy.sparse as sps\n",
    "\n",
    "from porepy.numerics.ad.forward_mode import Ad_array\n",
    "import porepy.numerics.ad.functions as af\n",
    "import porepy as pp"
   ]
  },
  {
   "cell_type": "markdown",
   "metadata": {},
   "source": [
    "# AD module\n",
    "Algorithmic differentiation is used to compute the derivative of a function. This is achieved by augmenting variables with a field representing the derivative in addition to the value of the variable. Evaluation of a function of such variables is performed by (repeatedly) applying the chain rule while keeping track of both values and derivatives.\n",
    "\n",
    "## Scalar variables\n",
    "\n",
    "We initiate a variable $x = 2$ by giving a pair (val, jac) to the Ad_array class. val is the value at which the function will be evaluated and jac =1 since $\\frac{d x}{dx} = 1$."
   ]
  },
  {
   "cell_type": "code",
   "execution_count": 14,
   "metadata": {},
   "outputs": [],
   "source": [
    "x = Ad_array(2, 1)"
   ]
  },
  {
   "cell_type": "markdown",
   "metadata": {},
   "source": [
    "We can now define a function $y=x^2 + 3$ "
   ]
  },
  {
   "cell_type": "code",
   "execution_count": 15,
   "metadata": {},
   "outputs": [],
   "source": [
    "y = x**2 + 3"
   ]
  },
  {
   "cell_type": "markdown",
   "metadata": {},
   "source": [
    "To obtain the function value and the derivative we can call .val and .jac"
   ]
  },
  {
   "cell_type": "code",
   "execution_count": 16,
   "metadata": {},
   "outputs": [
    {
     "name": "stdout",
     "output_type": "stream",
     "text": [
      "y value is:  7.0\n",
      "dy/dx is:  4.0\n"
     ]
    }
   ],
   "source": [
    "print('y value is: ', y.val)\n",
    "print('dy/dx is: ', y.jac)"
   ]
  },
  {
   "cell_type": "markdown",
   "metadata": {},
   "source": [
    "$y$ is also an AD variable as a function of $x$. We can use it to declare further functions, e.g., $h(x) = e^{y(x)}$. To take the exponential of an Ad_array we need to call the exponential function found in the AD module"
   ]
  },
  {
   "cell_type": "code",
   "execution_count": 17,
   "metadata": {},
   "outputs": [
    {
     "name": "stdout",
     "output_type": "stream",
     "text": [
      "h value is:  1096.6331584284585\n",
      "dh/dx is:  4386.532633713834\n"
     ]
    }
   ],
   "source": [
    "h = af.exp(y)\n",
    "print('h value is: ', h.val)\n",
    "print('dh/dx is: ', h.jac)"
   ]
  },
  {
   "cell_type": "markdown",
   "metadata": {},
   "source": [
    "If we know the value and Jacobian of $y$ we could alternatively skip initiating $x$ and initiate $y$ directly:"
   ]
  },
  {
   "cell_type": "code",
   "execution_count": 18,
   "metadata": {},
   "outputs": [
    {
     "name": "stdout",
     "output_type": "stream",
     "text": [
      "h value is:  1096.6331584284585\n",
      "dh/dx is:  4386.532633713834\n"
     ]
    }
   ],
   "source": [
    "y = Ad_array(7, 4)\n",
    "h = af.exp(y)\n",
    "print('h value is: ', h.val)\n",
    "print('dh/dx is: ', h.jac)"
   ]
  },
  {
   "cell_type": "markdown",
   "metadata": {},
   "source": [
    "## Vector variables\n",
    "The Ad_array class also support arrays."
   ]
  },
  {
   "cell_type": "code",
   "execution_count": 169,
   "metadata": {},
   "outputs": [],
   "source": [
    "x = Ad_array(np.array([3,2,1]), sps.diags([1,1,1]))"
   ]
  },
  {
   "cell_type": "markdown",
   "metadata": {},
   "source": [
    "As for the scalar case, it is straightforward to define functions using normal Python programming. Let us declare the function\n",
    "$$y(x) = Ax + x^2 - b$$\n",
    "which has the Jacobian\n",
    "$$ J_y(x) = A + 2 \\text{diag}(x)$$\n",
    "With this notation we mean $x^2 = [x_1^2, x_2^2, x_3^2]$, and $\\text{diag}(x)$ is a matrix with $x$ on the diagonal and zeros elsewhere."
   ]
  },
  {
   "cell_type": "code",
   "execution_count": 170,
   "metadata": {},
   "outputs": [
    {
     "name": "stdout",
     "output_type": "stream",
     "text": [
      "Analytic y value: \n",
      "[22 23 17]\n",
      "Analytic y Jacobian:\n",
      "[[ 9  2  1]\n",
      " [ 2 10  1]\n",
      " [ 2  3  6]] \n",
      "\n",
      "Ad y value: \n",
      "[22. 23. 17.]\n",
      "Ad y Jacobian:\n",
      "[[ 9.  2.  1.]\n",
      " [ 2. 10.  1.]\n",
      " [ 2.  3.  6.]]\n"
     ]
    }
   ],
   "source": [
    "A = sps.csc_matrix(np.array([[3,2,1],\n",
    "                             [2,6,1],\n",
    "                             [2,3,4]]))\n",
    "b =  Ad_array(np.array([1,0,0]), sps.diags([0,0,0]))\n",
    "y = A*x  + x**2 - b\n",
    "\n",
    "print('Analytic y value: ')\n",
    "print(np.array([22, 23, 17]))\n",
    "print('Analytic y Jacobian:')\n",
    "print(np.array([[9,2,1],[2,10,1],[2,3,6]]),'\\n')\n",
    "print('Ad y value: ')\n",
    "print(y.val)\n",
    "print('Ad y Jacobian:')\n",
    "print(y.jac.A)\n"
   ]
  },
  {
   "cell_type": "markdown",
   "metadata": {},
   "source": [
    "## Equations\n",
    "An equation is defined by setting\n",
    "$$y(x) = 0.$$\n",
    "We can solve it using the Newton-Rhapson scheme, which, on residual form, reads \n",
    "$$J_y(x^{k}) (x^{k+1} - x^{k}) = - y(x^{k}).$$"
   ]
  },
  {
   "cell_type": "code",
   "execution_count": 171,
   "metadata": {},
   "outputs": [
    {
     "name": "stdout",
     "output_type": "stream",
     "text": [
      "After five iterations, the solution is [ 0.39609763 -0.11506208 -0.11506208]. The residuals were \n",
      "[5.121415047969018, 0.37208984847741916, 0.010886193063849024, 1.2643761102354224e-05, 1.7809260833326555e-11]\n"
     ]
    }
   ],
   "source": [
    "tol = 1e-5\n",
    "residuals = list()\n",
    "for i in range(5): \n",
    "    x = x - sps.linalg.spsolve(y.jac, y.val)\n",
    "    y = A*x  + x**2 - b\n",
    "    residuals.append(np.linalg.norm(y.val))\n",
    "\n",
    "print(f\"After five iterations, the solution is {x.val}. The residuals were \")\n",
    "print(residuals)\n"
   ]
  },
  {
   "cell_type": "markdown",
   "metadata": {},
   "source": [
    "Conceptually, this example illustrates how mixed-dimensional PDEs are solved in PorePy:\n",
    "1. Define ad variables and parameters/discretization matrices\n",
    "2. Combine them into equations\n",
    "3. Solve the nonlinear problem using Newton-Rhapson\n",
    "In the mixed-dimensional case, some additional book-keeping is required. Specificially, variables etc. are defined on subdomains and interfaces of the mixed-dimensional grid as shown in the following."
   ]
  }
 ],
 "metadata": {
  "kernelspec": {
   "display_name": "Python 3 (ipykernel)",
   "language": "python",
   "name": "python3"
  },
  "language_info": {
   "codemirror_mode": {
    "name": "ipython",
    "version": 3
   },
   "file_extension": ".py",
   "mimetype": "text/x-python",
   "name": "python",
   "nbconvert_exporter": "python",
   "pygments_lexer": "ipython3",
   "version": "3.10.4"
  }
 },
 "nbformat": 4,
 "nbformat_minor": 4
}
