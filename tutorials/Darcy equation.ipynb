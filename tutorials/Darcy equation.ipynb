{
 "cells": [
  {
   "cell_type": "markdown",
   "metadata": {},
   "source": [
    "# Darcy's Equation\n",
    "\n",
    "Darcy's equation relates the flux field to the pressure gradient:\n",
    "\\begin{equation}\n",
    "v = -\\frac{K}{\\mu}\\nabla p\n",
    "\\end{equation}\n",
    "If we have a incompressible fluid, conservation of mass gives us:\n",
    "\\begin{equation}\n",
    "-\\nabla\\frac{K}{\\mu} \\nabla p =  q\n",
    "\\end{equation}\n"
   ]
  },
  {
   "cell_type": "markdown",
   "metadata": {},
   "source": [
    "To solve this equation in Porepy we import the Darcy module."
   ]
  },
  {
   "cell_type": "code",
   "execution_count": 1,
   "metadata": {
    "collapsed": true
   },
   "outputs": [],
   "source": [
    "import numpy as np\n",
    "\n",
    "from porepy.numerics import darcyEq\n",
    "from porepy.fracs import meshing\n",
    "from porepy.params import bc, tensor, data\n",
    "from porepy.grids.grid import FaceTag\n",
    "from porepy.grids.structured import CartGrid\n",
    "from porepy.viz.plot_grid import plot_grid"
   ]
  },
  {
   "cell_type": "markdown",
   "metadata": {},
   "source": [
    "We frist solve the equation on a single cartesian grid"
   ]
  },
  {
   "cell_type": "code",
   "execution_count": 2,
   "metadata": {
    "collapsed": true
   },
   "outputs": [],
   "source": [
    "g = CartGrid([11, 11])\n",
    "g.compute_geometry()"
   ]
  },
  {
   "cell_type": "markdown",
   "metadata": {},
   "source": [
    "We create a parameter class and assign zero dirichlet boundary conditions, and a source term"
   ]
  },
  {
   "cell_type": "code",
   "execution_count": 3,
   "metadata": {},
   "outputs": [],
   "source": [
    "param =  data.Parameters(g)\n",
    "dir_bound = np.ravel(np.argwhere((g.has_face_tag(FaceTag.BOUNDARY))))\n",
    "bc_cond = bc.BoundaryCondition(g, dir_bound, ['dir']*dir_bound.size)\n",
    "\n",
    "src = np.zeros(g.num_cells)\n",
    "src[60] = 1\n",
    "\n",
    "param.set_bc('flow', bc_cond)\n",
    "param.set_source('flow', src)\n",
    "d = {'param': param}"
   ]
  },
  {
   "cell_type": "markdown",
   "metadata": {},
   "source": [
    "We can now create a Darcy object and solve the problem"
   ]
  },
  {
   "cell_type": "code",
   "execution_count": 4,
   "metadata": {},
   "outputs": [
    {
     "data": {
      "image/png": "[encoded data removed]",
      "text/plain": [
       "<matplotlib.figure.Figure at 0x7f70ae8fbf28>"
      ]
     },
     "metadata": {},
     "output_type": "display_data"
    }
   ],
   "source": [
    "problem = darcyEq.Darcy(g, d)\n",
    "p = problem.solve()\n",
    "plot_grid(g, p)"
   ]
  },
  {
   "cell_type": "markdown",
   "metadata": {},
   "source": [
    "We now try to solve the same problem, but with a fracture in the domain. We create a multidimensional grid:"
   ]
  },
  {
   "cell_type": "code",
   "execution_count": 5,
   "metadata": {
    "collapsed": true
   },
   "outputs": [],
   "source": [
    "f = np.array([[0,10],[5,5]])\n",
    "gb = meshing.cart_grid([f], [10,10])\n",
    "gb.assign_node_ordering()"
   ]
  },
  {
   "cell_type": "markdown",
   "metadata": {},
   "source": [
    "We now make use of the DarcyData class to assign data to the fracture and matrix. We wish to set zero dirichlet boundary conditions. However, the data class assigns Neumann conditions by default, so we overload the bc function. Also, we change the parameters in the fracture."
   ]
  },
  {
   "cell_type": "code",
   "execution_count": 6,
   "metadata": {
    "collapsed": true
   },
   "outputs": [],
   "source": [
    "class MatrixDomain(darcyEq.DarcyData):\n",
    "    def __init__(self, g, d):\n",
    "        darcyEq.DarcyData.__init__(self, g, d)\n",
    "\n",
    "    def bc(self):\n",
    "        dir_bound = np.ravel(np.argwhere((self.grid().has_face_tag(FaceTag.DOMAIN_BOUNDARY))))\n",
    "        return bc.BoundaryCondition(self.grid(), dir_bound, ['dir']*dir_bound.size)\n",
    "\n",
    "class FractureDomain(MatrixDomain):\n",
    "    def __init(self, g, d):\n",
    "        MatrixDomain.__init__(self, g, d)\n",
    "        \n",
    "    def permeability(self):\n",
    "        kxx = 100 * np.ones(self.grid().num_cells)\n",
    "        return tensor.SecondOrder(2, kxx)\n",
    "    \n",
    "    def source(self):\n",
    "        val = np.ones(self.grid().num_cells)\n",
    "        val[round(self.grid().num_cells/2)] = 1\n",
    "        return val\n",
    "    \n",
    "    def aperture(self):\n",
    "        val = 0.01 * np.ones(self.grid().num_cells)\n",
    "        return val\n",
    "    \n",
    "def assign_darcy_data(gb):\n",
    "    gb.add_node_props(['problem'])\n",
    "    for g, d in gb:\n",
    "        if g.dim == 2:\n",
    "            d['problem'] = MatrixDomain(g, d)\n",
    "        else:\n",
    "            d['problem'] = FractureDomain(g, d)"
   ]
  },
  {
   "cell_type": "markdown",
   "metadata": {},
   "source": [
    "We are now ready to declare the problem and solve it"
   ]
  },
  {
   "cell_type": "code",
   "execution_count": 7,
   "metadata": {},
   "outputs": [
    {
     "data": {
      "image/png": "[encoded data removed]",
      "text/plain": [
       "<matplotlib.figure.Figure at 0x7f710b5a9cc0>"
      ]
     },
     "metadata": {},
     "output_type": "display_data"
    }
   ],
   "source": [
    "assign_darcy_data(gb)\n",
    "problem = darcyEq.Darcy(gb)\n",
    "problem.solve()\n",
    "problem.split('pressure')\n",
    "plot_grid(gb, 'pressure')"
   ]
  }
 ],
 "metadata": {
  "kernelspec": {
   "display_name": "Python 3",
   "language": "python",
   "name": "python3"
  },
  "language_info": {
   "codemirror_mode": {
    "name": "ipython",
    "version": 3
   },
   "file_extension": ".py",
   "mimetype": "text/x-python",
   "name": "python",
   "nbconvert_exporter": "python",
   "pygments_lexer": "ipython3",
   "version": "3.5.3"
  }
 },
 "nbformat": 4,
 "nbformat_minor": 2
}
