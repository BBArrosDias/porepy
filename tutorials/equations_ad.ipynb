{
 "cells": [
  {
   "attachments": {},
   "cell_type": "markdown",
   "metadata": {},
   "source": [
    "# Introduction\n",
    "\n",
    "A key feature of PorePy is that forward-mode automatic (or algorithmic) differentiation, AD, is used to linearize a system of partial differential equations. This tutorial provides an introduction to how the AD in embedded into the PorePy model.\n",
    "\n",
    "The time stepping algorithm at the core of PorePy involves numerically solving a discretized system of PDEs $F$ with respect to the vector of variables $x$. Most numerical solution algorithms rely on computing the Jacobian matrix of this system: $J:=\\dfrac{\\partial F}{\\partial x}$. However, programming a formula to compute the Jacobian matrix can be difficult, as it requires analytic differentiation of the equation $F$.\n",
    "\n",
    "Fortunately, the PorePy model developers do not need to perform this task, as the AD framework handles it for them. In this tutorial, we will first learn some basics about the AD framework.\n",
    "\n",
    "# AD basics\n",
    "\n",
    "The core of the AD framework is the `AdArray` class. It contains 2 attributes:\n",
    "- `val` - the value of the variable it represents.\n",
    "- `jac` - the Jacobian matrix of the variable it represents.\n",
    "\n",
    "Let's create an independent variable - the vector `x = [1, 2, 3]`.\n",
    "As the variable is independent, its Jacobian is the identity matrix:\n",
    "$\\dfrac{\\partial x}{\\partial x} = I$."
   ]
  },
  {
   "cell_type": "code",
   "execution_count": 6,
   "metadata": {},
   "outputs": [
    {
     "name": "stdout",
     "output_type": "stream",
     "text": [
      "Values:\n",
      " [1. 2. 3.]\n",
      "Jacobian:\n",
      " [[1. 0. 0.]\n",
      " [0. 1. 0.]\n",
      " [0. 0. 1.]]\n"
     ]
    }
   ],
   "source": [
    "import numpy as np\n",
    "import scipy.sparse as sps\n",
    "\n",
    "from porepy.numerics.ad.forward_mode import AdArray\n",
    "\n",
    "val = np.array([1, 2, 3])\n",
    "jac = sps.eye(m=val.size)\n",
    "\n",
    "x = AdArray(val=val, jac=jac)\n",
    "\n",
    "print(\"Values:\\n\", x.val)\n",
    "print(\"Jacobian:\\n\", x.jac.toarray())"
   ]
  },
  {
   "attachments": {},
   "cell_type": "markdown",
   "metadata": {},
   "source": [
    "Now we can use arithmetic operators to build any expression with $x$. For example:\n",
    "$$y(x) = 6 x^3 + 3 x - 6$$"
   ]
  },
  {
   "cell_type": "code",
   "execution_count": 7,
   "metadata": {},
   "outputs": [],
   "source": [
    "y = 6 * x**3 + 3 * x - 6"
   ]
  },
  {
   "attachments": {},
   "cell_type": "markdown",
   "metadata": {},
   "source": [
    "The values of the Jacobian $\\dfrac{\\partial y}{\\partial x}$ is available automatically.\n",
    "The values are computed with respect to $x = [1, 2, 3]$."
   ]
  },
  {
   "cell_type": "code",
   "execution_count": 8,
   "metadata": {},
   "outputs": [
    {
     "name": "stdout",
     "output_type": "stream",
     "text": [
      "[[ 21.   0.   0.]\n",
      " [  0.  75.   0.]\n",
      " [  0.   0. 165.]]\n"
     ]
    }
   ],
   "source": [
    "print(y.jac.toarray())"
   ]
  },
  {
   "attachments": {},
   "cell_type": "markdown",
   "metadata": {},
   "source": [
    "We can access the standard functions (`sin`, `cos`, `exp`, etc..):"
   ]
  },
  {
   "cell_type": "code",
   "execution_count": 9,
   "metadata": {},
   "outputs": [
    {
     "name": "stdout",
     "output_type": "stream",
     "text": [
      "[[ 0.54030231  0.          0.        ]\n",
      " [ 0.         -0.41614684  0.        ]\n",
      " [ 0.          0.         -0.9899925 ]]\n"
     ]
    }
   ],
   "source": [
    "import porepy.numerics.ad.functions as af\n",
    "\n",
    "y = af.sin(x)\n",
    "print(y.jac.toarray())"
   ]
  },
  {
   "attachments": {},
   "cell_type": "markdown",
   "metadata": {},
   "source": [
    "The AD framework supports NumPy arrays and SciPy sparse matrices. \n",
    "There are some limitations, check the documentation of the `AdArray` to be aware of \n",
    "them.\n",
    "\n",
    "Now we are ready to see how the AD is utilized in the PorePy models.\n",
    "\n",
    "# AD in the models"
   ]
  },
  {
   "attachments": {},
   "cell_type": "markdown",
   "metadata": {},
   "source": [
    "We will consider an example of `SinglePhaseFlow`, which you must be familiar with from the\n",
    "earlier tutorials. Again, we will modify the geometry and add a fracture to the model.\n",
    "The detailed explanation of this process is given in the earlier tutorials."
   ]
  },
  {
   "cell_type": "code",
   "execution_count": 10,
   "metadata": {},
   "outputs": [],
   "source": [
    "import inspect\n",
    "import porepy as pp\n",
    "from porepy.models.fluid_mass_balance import SinglePhaseFlow\n",
    "\n",
    "\n",
    "class SinglePhaseFlowWithGeometry(SinglePhaseFlow):\n",
    "    def set_md_grid(self):\n",
    "        # Define the domain\n",
    "        self.domain = pp.Domain({\"xmin\": 0, \"xmax\": 1, \"ymin\": 0, \"ymax\": 1})\n",
    "\n",
    "        # Generate a fracture network\n",
    "        frac_1 = pp.LineFracture(np.array([[0.2, 0.8], [0.2, 0.8]]))\n",
    "        fractures = [frac_1]\n",
    "        fracture_network = pp.create_fracture_network(fractures, self.domain)\n",
    "\n",
    "        # Generate the mixed-dimensional grid\n",
    "        meshing_args = {\"cell_size\": 0.075}\n",
    "        self.mdg = pp.create_mdg(\"simplex\", meshing_args, fracture_network)"
   ]
  },
  {
   "attachments": {},
   "cell_type": "markdown",
   "metadata": {},
   "source": [
    "The PorePy model is a class designed to incorporates the full description of a simulation.\n",
    "It includes:\n",
    "- the independent variables of the simulation\n",
    "- the system of PDEs describing the physical laws of the simulation\n",
    "\n",
    "All of these are initialized in the `prepare_simulation` method.\n",
    "<ul><em>\n",
    "<b>Note for an advanced reader:</b> \n",
    "\n",
    "When running the simulation, you should not call `prepare_simulation` directly. It is called inside `pp.run_time_dependent_model` or `pp.run_stationary_model`. Here, we call it for illustration purposes only, as we do not plan to run the simulation.\n",
    "</em></ul>"
   ]
  },
  {
   "cell_type": "code",
   "execution_count": 11,
   "metadata": {},
   "outputs": [
    {
     "name": "stdout",
     "output_type": "stream",
     "text": [
      "\n"
     ]
    },
    {
     "data": {
      "image/png": "[encoded data removed]",
      "text/plain": [
       "<Figure size 640x480 with 1 Axes>"
      ]
     },
     "metadata": {},
     "output_type": "display_data"
    }
   ],
   "source": [
    "model = SinglePhaseFlowWithGeometry()\n",
    "model.prepare_simulation()\n",
    "\n",
    "# This is our geometry:\n",
    "pp.plot_grid(model.mdg)"
   ]
  },
  {
   "attachments": {},
   "cell_type": "markdown",
   "metadata": {},
   "source": [
    "What happenes inside `model.prepare_simulation`?"
   ]
  },
  {
   "cell_type": "code",
   "execution_count": 12,
   "metadata": {},
   "outputs": [
    {
     "name": "stdout",
     "output_type": "stream",
     "text": [
      "    def prepare_simulation(self) -> None:\n",
      "        \"\"\"Run at the start of simulation. Used for initialization etc.\"\"\"\n",
      "        # Set the geometry of the problem. This is a method that must be implemented\n",
      "        # in a ModelGeometry class.\n",
      "        self.set_geometry()\n",
      "\n",
      "        # Exporter initialization must be done after grid creation,\n",
      "        # but prior to data initialization.\n",
      "        self.initialize_data_saving()\n",
      "\n",
      "        # Set variables, constitutive relations, discretizations and equations.\n",
      "        # Order of operations is important here.\n",
      "        self.set_equation_system_manager()\n",
      "        self.set_materials()\n",
      "        self.create_variables()\n",
      "        self.initial_condition()\n",
      "        self.reset_state_from_file()\n",
      "        self.set_equations()\n",
      "\n",
      "        self.set_discretization_parameters()\n",
      "        self.discretize()\n",
      "        self._initialize_linear_solver()\n",
      "        self.set_nonlinear_discretizations()\n",
      "\n",
      "        # Export initial condition\n",
      "        self.save_data_time_step()\n",
      "\n"
     ]
    }
   ],
   "source": [
    "print(inspect.getsource(model.prepare_simulation))"
   ]
  },
  {
   "attachments": {},
   "cell_type": "markdown",
   "metadata": {},
   "source": [
    "The `prepare_simulation` method runs a sequence of initialization steps, all of which \n",
    "are important. However, we will focus on two steps for now:\n",
    "\n",
    "- Initializing the independent variables of the simulation in the `create_variables` \n",
    "method. In our case, these are pressure $P$ and interface fluxe.\n",
    "- Initializing the equations of the model in the `set_equations` method. In our case, \n",
    "these are the mass balance equation and the interface equations.\n",
    "\n",
    "The bookkeeping of variables and equations is done with the `equation_system` attribute \n",
    "of the model:"
   ]
  },
  {
   "cell_type": "code",
   "execution_count": 13,
   "metadata": {},
   "outputs": [
    {
     "data": {
      "text/plain": [
       "EquationSystem for mixed-dimensional grid with 2 subdomains and 1 interfaces.\n",
       "Variables present on at least one grid or interface:\n",
       "\tpressure, interface_darcy_flux\n",
       "In total 3 equations, with names: \n",
       "\tmass_balance_equation, interface_darcy_flux_equation, well_flux_equation"
      ]
     },
     "execution_count": 13,
     "metadata": {},
     "output_type": "execute_result"
    }
   ],
   "source": [
    "model.equation_system"
   ]
  },
  {
   "attachments": {},
   "cell_type": "markdown",
   "metadata": {},
   "source": [
    "# Variables creation\n",
    "The variables are created in the method `create_variables`. Inside this method, we register all the model variables to the `equation_system`:"
   ]
  },
  {
   "cell_type": "code",
   "execution_count": 14,
   "metadata": {},
   "outputs": [
    {
     "name": "stdout",
     "output_type": "stream",
     "text": [
      "    def create_variables(self) -> None:\n",
      "        \"\"\"Assign primary variables to subdomains and interfaces of the\n",
      "        mixed-dimensional grid.\n",
      "\n",
      "        \"\"\"\n",
      "        self.equation_system.create_variables(\n",
      "            self.pressure_variable,\n",
      "            subdomains=self.mdg.subdomains(),\n",
      "            tags={\"si_units\": \"Pa\"},\n",
      "        )\n",
      "        # Note that `interface_darcy_flux_variable` is not multiplied by rho * mu^-1.\n",
      "        # However, after multiplication, whe know that the resulting flux should be a\n",
      "        # mass flux with units  `kg * s^-1`. The units of `interface_darcy_flux` can\n",
      "        # then be inferred by solving the below equation for `int_flux_units`:\n",
      "        # kg * s^-1 = [kg * (m^nd)^-1] * [Pa * s]^-1 * intf_flux_units\n",
      "        self.equation_system.create_variables(\n",
      "            self.interface_darcy_flux_variable,\n",
      "            interfaces=self.mdg.interfaces(codim=1),\n",
      "            tags={\"si_units\": f\"m^{self.nd} * Pa\"},\n",
      "        )\n",
      "        self.equation_system.create_variables(\n",
      "            self.well_flux_variable,\n",
      "            interfaces=self.mdg.interfaces(codim=2),\n",
      "            tags={\"si_units\": f\"m^{self.nd} * Pa\"},\n",
      "        )\n",
      "\n"
     ]
    }
   ],
   "source": [
    "print(inspect.getsource(model.create_variables))"
   ]
  },
  {
   "attachments": {},
   "cell_type": "markdown",
   "metadata": {},
   "source": [
    "It is a good practice to store the variable names in the attributes of the model:"
   ]
  },
  {
   "cell_type": "code",
   "execution_count": 16,
   "metadata": {},
   "outputs": [
    {
     "data": {
      "text/plain": [
       "'pressure'"
      ]
     },
     "execution_count": 16,
     "metadata": {},
     "output_type": "execute_result"
    }
   ],
   "source": [
    "model.pressure_variable"
   ]
  },
  {
   "attachments": {},
   "cell_type": "markdown",
   "metadata": {},
   "source": [
    "We can access a variable from the outside by its name:"
   ]
  },
  {
   "cell_type": "code",
   "execution_count": 17,
   "metadata": {},
   "outputs": [
    {
     "data": {
      "text/plain": [
       "Mixed-dimensional variable with name pressure, id 28\n",
       "Composed of 2 variables\n",
       "Total size: 488"
      ]
     },
     "execution_count": 17,
     "metadata": {},
     "output_type": "execute_result"
    }
   ],
   "source": [
    "p = model.equation_system.md_variable(model.pressure_variable)\n",
    "p"
   ]
  },
  {
   "attachments": {},
   "cell_type": "markdown",
   "metadata": {},
   "source": [
    "The variable is an abstract AD object that does not store the values. It is used to \n",
    "define equations to be evaluated later. However, the model stores the current state of \n",
    "the values for our variables, and we can access them using the evaluate method.\n",
    "\n",
    "<ul><em>\n",
    "<b>Note for an advanced reader:</b> \n",
    "\n",
    "The variable object incorporates the variables on all the grids in the mixed-dimensional\n",
    "setting. This means, we can operate with one object and simultainously define an \n",
    "equation on all the grids.\n",
    "Here, we will define an equation both on 1D and 2D grids.\n",
    "</em></ul>\n",
    "\n"
   ]
  },
  {
   "cell_type": "code",
   "execution_count": 18,
   "metadata": {},
   "outputs": [
    {
     "data": {
      "text/plain": [
       "array([0., 0., 0., 0., 0., 0., 0., 0., 0., 0.])"
      ]
     },
     "execution_count": 18,
     "metadata": {},
     "output_type": "execute_result"
    }
   ],
   "source": [
    "p_initial = p.evaluate(model.equation_system).val\n",
    "p_initial[:10]"
   ]
  },
  {
   "attachments": {},
   "cell_type": "markdown",
   "metadata": {},
   "source": [
    "Since nothing has happened in the simulation yet, it returns the initial condition, which has been set in the `initial_condition` method - one more method inside `prepare_simulation`.\n",
    "\n",
    "We can change this state manually by calling the `set_variable_values` method on the `equation_system`:"
   ]
  },
  {
   "cell_type": "code",
   "execution_count": 19,
   "metadata": {},
   "outputs": [
    {
     "data": {
      "text/plain": [
       "array([ 0.        ,  0.84147098,  0.90929743,  0.14112001, -0.7568025 ,\n",
       "       -0.95892427, -0.2794155 ,  0.6569866 ,  0.98935825,  0.41211849])"
      ]
     },
     "execution_count": 19,
     "metadata": {},
     "output_type": "execute_result"
    }
   ],
   "source": [
    "import numpy as np\n",
    "\n",
    "p_new = np.sin(np.arange(p_initial.size))\n",
    "\n",
    "model.equation_system.set_variable_values(\n",
    "    values=p_new,\n",
    "    variables=[p],\n",
    "    iterate_index=0,  #   | For a more advanced reader:\n",
    "    time_step_index=0,  # | We reference the nonlinear solver code to see what these\n",
    "    additive=False,  #    | keyword arguments do.\n",
    ")\n",
    "\n",
    "# Check that it worked\n",
    "p.evaluate(model.equation_system).val[:10]"
   ]
  },
  {
   "attachments": {},
   "cell_type": "markdown",
   "metadata": {},
   "source": [
    "# Setting equations\n",
    "To set the equations in the model, we use the `set_equation` method inside `prepare_simulation`. This method can be a bit complicated, so we will start with a simplified example to make it easier to understand.\n",
    "\n",
    "To create an equation, we apply arithmetic operators to variables. For example, we will define a polynomial equation:"
   ]
  },
  {
   "cell_type": "code",
   "execution_count": 20,
   "metadata": {},
   "outputs": [],
   "source": [
    "poly_eq = p**2 + p * 5 + 2"
   ]
  },
  {
   "attachments": {},
   "cell_type": "markdown",
   "metadata": {},
   "source": [
    "The equation is also an AD object, just like the variable. It also has the `evaluate` method.\n",
    "When we run it, the values of pressure are substituted:"
   ]
  },
  {
   "cell_type": "code",
   "execution_count": 21,
   "metadata": {},
   "outputs": [
    {
     "data": {
      "text/plain": [
       "Ad array of size 488\n",
       "Jacobian is of size (488, 512) and has 488 elements"
      ]
     },
     "execution_count": 21,
     "metadata": {},
     "output_type": "execute_result"
    }
   ],
   "source": [
    "poly_eq_result = poly_eq.evaluate(model.equation_system)\n",
    "poly_eq_result"
   ]
  },
  {
   "attachments": {},
   "cell_type": "markdown",
   "metadata": {},
   "source": [
    "It returns the AD array, just like we saw in the beginning of this tutorial. We can access the values:"
   ]
  },
  {
   "cell_type": "code",
   "execution_count": 22,
   "metadata": {},
   "outputs": [
    {
     "data": {
      "text/plain": [
       "array([ 2.        ,  6.91542834,  7.37330894,  2.7255149 , -1.21126246,\n",
       "       -1.87508561,  0.68099553,  5.71656438,  7.92562097,  4.23043407])"
      ]
     },
     "execution_count": 22,
     "metadata": {},
     "output_type": "execute_result"
    }
   ],
   "source": [
    "poly_eq_result.val[:10]"
   ]
  },
  {
   "attachments": {},
   "cell_type": "markdown",
   "metadata": {},
   "source": [
    "The Jacobian $\\frac{\\partial F}{\\partial p}$ is accessible automatically:"
   ]
  },
  {
   "cell_type": "code",
   "execution_count": 23,
   "metadata": {},
   "outputs": [
    {
     "data": {
      "text/plain": [
       "matrix([[5.        , 0.        , 0.        , 0.        , 0.        ],\n",
       "        [0.        , 6.68294197, 0.        , 0.        , 0.        ],\n",
       "        [0.        , 0.        , 6.81859485, 0.        , 0.        ],\n",
       "        [0.        , 0.        , 0.        , 5.28224002, 0.        ],\n",
       "        [0.        , 0.        , 0.        , 0.        , 3.48639501],\n",
       "        [0.        , 0.        , 0.        , 0.        , 0.        ],\n",
       "        [0.        , 0.        , 0.        , 0.        , 0.        ],\n",
       "        [0.        , 0.        , 0.        , 0.        , 0.        ],\n",
       "        [0.        , 0.        , 0.        , 0.        , 0.        ],\n",
       "        [0.        , 0.        , 0.        , 0.        , 0.        ]])"
      ]
     },
     "execution_count": 23,
     "metadata": {},
     "output_type": "execute_result"
    }
   ],
   "source": [
    "poly_eq_result.jac.todense()[:10, :5]"
   ]
  },
  {
   "attachments": {},
   "cell_type": "markdown",
   "metadata": {},
   "source": [
    "<ul><em>\n",
    "<b>Note for an advanced reader:</b> \n",
    "\n",
    "In order to make our equation a full-fledged PDE, we must discretize spatial derivatives. \n",
    "This is a more advanced topic, so we reference you to look at the source code of models to see how it is implemented.\n",
    "</em></ul>\n",
    "\n",
    "The `set_equations` method is where equations are defined in the model, just as we did here with our polynomial equation.\n",
    "For convenience, separate parts of an equation are defined in separate functions. These functions are called separately, so that we assemble an equation from smaller blocks.\n",
    "\n",
    "As an example, let's look at the mass balance equation. This equation is typically defined using the accumulation, flux and source terms. These functions can be called separately to assemble each term, and then combined to create the full mass balance equation."
   ]
  },
  {
   "cell_type": "code",
   "execution_count": 24,
   "metadata": {},
   "outputs": [
    {
     "name": "stdout",
     "output_type": "stream",
     "text": [
      "    def mass_balance_equation(self, subdomains: list[pp.Grid]) -> pp.ad.Operator:\n",
      "        \"\"\"Mass balance equation for subdomains.\n",
      "\n",
      "        Parameters:\n",
      "            subdomains: List of subdomains.\n",
      "\n",
      "        Returns:\n",
      "            Operator representing the mass balance equation.\n",
      "\n",
      "        \"\"\"\n",
      "        # Assemble the terms of the mass balance equation.\n",
      "        accumulation = self.fluid_mass(subdomains)\n",
      "        flux = self.fluid_flux(subdomains)\n",
      "        source = self.fluid_source(subdomains)\n",
      "\n",
      "        # Feed the terms to the general balance equation method.\n",
      "        eq = self.balance_equation(subdomains, accumulation, flux, source, dim=1)\n",
      "        eq.set_name(\"mass_balance_equation\")\n",
      "        return eq\n",
      "\n"
     ]
    }
   ],
   "source": [
    "print(inspect.getsource(model.mass_balance_equation))"
   ]
  },
  {
   "attachments": {},
   "cell_type": "markdown",
   "metadata": {},
   "source": [
    "For example, we will access the flux term separately:"
   ]
  },
  {
   "cell_type": "code",
   "execution_count": 25,
   "metadata": {},
   "outputs": [
    {
     "data": {
      "text/plain": [
       "Operator 'fluid_flux' formed by Operations.sub with 2 children."
      ]
     },
     "execution_count": 25,
     "metadata": {},
     "output_type": "execute_result"
    }
   ],
   "source": [
    "subdomains = model.mdg.subdomains()\n",
    "fluid_flux = model.fluid_flux(subdomains)\n",
    "fluid_flux"
   ]
  },
  {
   "attachments": {},
   "cell_type": "markdown",
   "metadata": {},
   "source": [
    "We can evaluate separate parts of the Jacobian:"
   ]
  },
  {
   "cell_type": "code",
   "execution_count": 26,
   "metadata": {},
   "outputs": [
    {
     "data": {
      "text/plain": [
       "Ad array of size 767\n",
       "Jacobian is of size (767, 512) and has 6731 elements"
      ]
     },
     "execution_count": 26,
     "metadata": {},
     "output_type": "execute_result"
    }
   ],
   "source": [
    "fluid_flux_data = fluid_flux.evaluate(model.equation_system)\n",
    "fluid_flux_data"
   ]
  },
  {
   "attachments": {},
   "cell_type": "markdown",
   "metadata": {},
   "source": [
    "As you can see from the source code, we use the method `balance_equation` to define \n",
    "a conservation law:"
   ]
  },
  {
   "cell_type": "code",
   "execution_count": 32,
   "metadata": {},
   "outputs": [
    {
     "name": "stdout",
     "output_type": "stream",
     "text": [
      "    def balance_equation(\n",
      "        self,\n",
      "        subdomains: list[pp.Grid],\n",
      "        accumulation: pp.ad.Operator,\n",
      "        surface_term: pp.ad.Operator,\n",
      "        source: pp.ad.Operator,\n",
      "        dim: int,\n",
      "    ) -> pp.ad.Operator:\n",
      "        \"\"\"Balance equation that combines an accumulation and a surface term.\n",
      "\n",
      "        The balance equation is given by\n",
      "        .. math::\n",
      "            d_t(accumulation) + div(surface_term) - source = 0.\n",
      "\n",
      "        Parameters:\n",
      "            subdomains: List of subdomains where the balance equation is defined.\n",
      "            accumulation: Operator for the cell-wise accumulation term, integrated over\n",
      "                the cells of the subdomains.\n",
      "            surface_term: Operator for the surface term (e.g. flux, stress), integrated\n",
      "                over the faces of the subdomains.\n",
      "            source: Operator for the source term, integrated over the cells of the\n",
      "                subdomains.\n",
      "            dim: Spatial dimension of the balance equation.\n",
      "\n",
      "        Returns:\n",
      "            Operator for the balance equation.\n",
      "\n",
      "        \"\"\"\n",
      "\n",
      "        dt_operator = pp.ad.time_derivatives.dt\n",
      "        dt = pp.ad.Scalar(self.time_manager.dt)\n",
      "        div = pp.ad.Divergence(subdomains, dim=dim)\n",
      "        return dt_operator(accumulation, dt) + div @ surface_term - source\n",
      "\n"
     ]
    }
   ],
   "source": [
    "accumulation = model.fluid_mass(subdomains)\n",
    "flux = model.fluid_flux(subdomains)\n",
    "source = model.fluid_source(subdomains)\n",
    "\n",
    "eq = model.balance_equation(\n",
    "    subdomains=subdomains,\n",
    "    accumulation=accumulation,\n",
    "    surface_term=flux,\n",
    "    source=source,\n",
    "    dim=1,  # Scalar equation\n",
    ")\n",
    "\n",
    "print(inspect.getsource(model.balance_equation))"
   ]
  },
  {
   "attachments": {},
   "cell_type": "markdown",
   "metadata": {},
   "source": [
    "The complete equation is registred in the `equation_system`:"
   ]
  },
  {
   "cell_type": "code",
   "execution_count": 24,
   "metadata": {},
   "outputs": [
    {
     "name": "stdout",
     "output_type": "stream",
     "text": [
      "    def set_equations(self):\n",
      "        \"\"\"Set the equations for the mass balance problem.\n",
      "\n",
      "        A mass balance equation is set for all subdomains and a Darcy-type flux relation\n",
      "        is set for all interfaces of codimension one.\n",
      "\n",
      "        \"\"\"\n",
      "        subdomains = self.mdg.subdomains()\n",
      "        codim_1_interfaces = self.mdg.interfaces(codim=1)\n",
      "        # TODO: If wells are integrated for nd=2 models, consider refactoring sorting of\n",
      "        # interfaces into method returning either \"normal\" or well interfaces.\n",
      "        codim_2_interfaces = self.mdg.interfaces(codim=2)\n",
      "        sd_eq = self.mass_balance_equation(subdomains)\n",
      "        intf_eq = self.interface_darcy_flux_equation(codim_1_interfaces)\n",
      "        well_eq = self.well_flux_equation(codim_2_interfaces)\n",
      "        self.equation_system.set_equation(sd_eq, subdomains, {\"cells\": 1})\n",
      "        self.equation_system.set_equation(intf_eq, codim_1_interfaces, {\"cells\": 1})\n",
      "        self.equation_system.set_equation(well_eq, codim_2_interfaces, {\"cells\": 1})\n",
      "\n"
     ]
    }
   ],
   "source": [
    "print(inspect.getsource(model.set_equations))"
   ]
  },
  {
   "attachments": {},
   "cell_type": "markdown",
   "metadata": {},
   "source": [
    "Now we are ready to run the simulation. During the simulatiom, the values of the variables will update, and the AD equations will automaticaly produce the Jacobian based on the new values.\n",
    "\n",
    "The full Jacobian and the values of the equations can be accessed through the `equation_system`:"
   ]
  },
  {
   "cell_type": "code",
   "execution_count": 33,
   "metadata": {},
   "outputs": [],
   "source": [
    "jacobian, vals = model.equation_system.assemble()"
   ]
  },
  {
   "cell_type": "code",
   "execution_count": 34,
   "metadata": {},
   "outputs": [
    {
     "data": {
      "text/plain": [
       "array([-0.24652838, -1.0103203 , -4.92540505,  0.465926  ,  1.23307361,\n",
       "        4.41870697,  0.86485525, -0.76625288, -2.59187967,  0.58076449])"
      ]
     },
     "execution_count": 34,
     "metadata": {},
     "output_type": "execute_result"
    }
   ],
   "source": [
    "vals[:10]"
   ]
  },
  {
   "cell_type": "code",
   "execution_count": 35,
   "metadata": {},
   "outputs": [
    {
     "data": {
      "text/plain": [
       "<matplotlib.image.AxesImage at 0x7f1b6c10b6a0>"
      ]
     },
     "execution_count": 35,
     "metadata": {},
     "output_type": "execute_result"
    },
    {
     "data": {
      "image/png": "[encoded data removed]",
      "text/plain": [
       "<Figure size 640x480 with 1 Axes>"
      ]
     },
     "metadata": {},
     "output_type": "display_data"
    }
   ],
   "source": [
    "plt.spy(jacobian.toarray())"
   ]
  },
  {
   "attachments": {},
   "cell_type": "markdown",
   "metadata": {},
   "source": [
    "# What have we done\n",
    "We have looked at the AD framework and how it is utilized by the PorePy models.\n",
    "\n",
    "Key messages:\n",
    "- The AD framework is capable of computing the Jacobian of an equation automatically. \n",
    "- In PorePy model, the AD objects are prepared in the `prepare_simulation` method.\n",
    "- The variables are defined in the `create_variables` method.\n",
    "- The equations are assembled from the variables in the `set_equations` method.\n",
    "- The process of assembling an equation is modular. You can access separate terms of an equation by calling the model methods. \n",
    "- The equations can be evaluated many times with the new values of the variables, and the Jacobian will be computed automatically.\n"
   ]
  },
  {
   "attachments": {},
   "cell_type": "markdown",
   "metadata": {},
   "source": [
    "#"
   ]
  }
 ],
 "metadata": {
  "kernelspec": {
   "display_name": "porepy",
   "language": "python",
   "name": "python3"
  },
  "language_info": {
   "codemirror_mode": {
    "name": "ipython",
    "version": 3
   },
   "file_extension": ".py",
   "mimetype": "text/x-python",
   "name": "python",
   "nbconvert_exporter": "python",
   "pygments_lexer": "ipython3",
   "version": "3.10.4"
  },
  "orig_nbformat": 4
 },
 "nbformat": 4,
 "nbformat_minor": 2
}
